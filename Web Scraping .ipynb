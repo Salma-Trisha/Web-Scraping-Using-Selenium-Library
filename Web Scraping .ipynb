{
 "cells": [
  {
   "cell_type": "markdown",
   "id": "18cb40fb",
   "metadata": {},
   "source": [
    "Importing required libraries"
   ]
  },
  {
   "cell_type": "code",
   "execution_count": 55,
   "id": "d54a01c9",
   "metadata": {},
   "outputs": [
    {
     "name": "stderr",
     "output_type": "stream",
     "text": [
      "<ipython-input-55-95c7b8ccd2b9>:6: DeprecationWarning: executable_path has been deprecated, please pass in a Service object\n",
      "  driver = webdriver.Chrome(\"F:/web scraping/chromedriver.exe\")\n"
     ]
    }
   ],
   "source": [
    "#import selenium\n",
    "from selenium import webdriver\n",
    "from webdriver_manager.chrome import ChromeDriverManager\n",
    "from selenium.webdriver.common.by import By\n",
    "from selenium.webdriver import ActionChains\n",
    "driver = webdriver.Chrome(\"F:/web scraping/chromedriver.exe\")\n",
    "driver.maximize_window()\n",
    "import pandas as pd\n",
    "import time"
   ]
  },
  {
   "cell_type": "code",
   "execution_count": 6,
   "id": "3fc2e119",
   "metadata": {},
   "outputs": [],
   "source": [
    "driver.get('https://www.daraz.com.bd/womens-traditional-clothing/?spm=a2a0e.home.cate_1.1.2f3c12f7R0OXQi')\n",
    "\n",
    "#title = driver.find_element(By.XPATH,'//*[@id=\"root\"]/div/div[3]/div[1]/div/div[1]/div[2]/div[1]/div/div/div[2]/div[2]/a').text\n",
    "#print(title)\n",
    "\n",
    "#link = driver.find_element(By.XPATH,'//*[@id=\"root\"]/div/div[3]/div[1]/div/div[1]/div[2]/div[1]/div/div/div[2]/div[2]/a').get_attribute('href')\n",
    "#print(link)\n",
    "\n",
    "#image = driver.find_element(By.XPATH,'//*[@id=\"root\"]/div/div[3]/div[1]/div/div[1]/div[2]/div[1]/div/div/div[1]/div/a/img').get_attribute('src')\n"
   ]
  },
  {
   "cell_type": "markdown",
   "id": "ae4786c1",
   "metadata": {},
   "source": [
    "### Extract title, link and image from a single page"
   ]
  },
  {
   "cell_type": "code",
   "execution_count": 7,
   "id": "5068d5ca",
   "metadata": {},
   "outputs": [
    {
     "name": "stdout",
     "output_type": "stream",
     "text": [
      "['New exclusive Designed Stitched Linen Naira Kat Stylist and Fashionable Three Pis For Women / Girls', 'Exclusive Salwar kameez set', 'Fashionable Halfsilk Chumki Saree for Womens-All color - Sari', 'Plus par Saree for fashionable Women-Black color', 'Moslin Than Saree for womens-all colour', 'High Quality Pakistani Malhar Women Salwar Kameez Three Piece For Women', 'Muslin Soft Thane Saree for Women - শাড়ি', 'Cotton Sharee Shapewear Fish cut Petticoat Best Qualityfull Good Stitching for woman', 'Dhupain Cheak Sarees for Women Black', 'Linen Skirt Palazzo Best Qualityfull Good Stitching Imported Fabric For Women', 'New exclusive Designed Stitched Cotton Naira Kat Stylist and Fashionable Three Pis For Women / Girls', 'মেয়েদের জন্য শাড়ীর সাথে পরার জন্য আকর্ষণীয় শেপওয়ার ফিশকাত পেটিকোট।।', 'Handloom Chumki Saree For Women - Sari', 'New Exclushive Collection 100% High Qualitiey Deshi Tat Three Piece [3pc] dress For Women', 'Palazzo Best Qualityfull Good stitching For Women (China Linen Fabric)', 'Black Half Silk Tangail Tat Saree Without Blouse Piece For Women - Sari', 'Red & Golden Combnation 12 Hand Halfsilk Saree for Women - Sari', 'Cotton Unstitched Salwar kameez for Women', 'Exclusive Tangail Multi Color Half Silk Chumki Saree Without Blouse Piece For Women - Sari', 'Tangail halfsilk Chumki saree for women All colour. (Any colour inbox me)', \"Sirajganj Shari Ghor's Half Silk Pure Cotton Deep Blue Handloomed New Designed Saree\", 'Multicolor satkahon saree for women with tangail saree - Sari - Saree - শাড়ি - Sari', 'Japani Soft Silk Sharee For Women - Black - Sari - Saree - শাড়ি', 'New exclusive designed high quality lilen skin print 3 pis for women. - Dress For Girls - 3 Pice Dress - Three Piece', 'Multicolor Cotton+silk Check Saree For Women With Running Blouse Peice', 'Readymade Stylish Fashionable Koti dress Hot Kurti For Girls Long Pure Soft Linen (1 Pcs) ShadaMon Shop K-300', 'Moslin Than Sarees For Women - Sari', 'Fashionable Trendy Tangail Tat Golden Par Saree for Women - All Color', 'Readymade Stylish Hot Kurti tops For Girls ( ShadaMon Shop )BBJJJ', 'Multicolor pure tangail half silk jamdani saree for women', 'Chumki Saree All Colour For Woman', 'Fashionable Temple Dhupiyan Saree For Women (All Colour) - Sharee For Women - Sari - Saree - শাড়ি - Sari - শাড়ি', 'Japani Silk Saree for Women - Sari - শাড়ি', 'Moslin Than Saree for womens black colour - শাড়ি', 'Black & White Dhupiyan Check Saree For Women (Dhupian sari of Tangail)', 'Red Color Traditional Jamdani Saree For Women', 'Black Saree for Women', 'Multicolor Weightless Jamdani Saree For Women', 'Half Silk Chumki Sarees for Women Tangail Saree', 'Soft Silk Katan Saree Without Blouse Piece For Women'] / ['https://www.daraz.com.bd/products/-i318042885-s1448755239.html?search=1', 'https://www.daraz.com.bd/products/-i318075072-s1448919881.html?search=1', 'https://www.daraz.com.bd/products/-i298150813-s1323055118.html?search=1', 'https://www.daraz.com.bd/products/-i226721901-s1284038112.html?search=1', 'https://www.daraz.com.bd/products/-i252828631-s1281106443.html?search=1', 'https://www.daraz.com.bd/products/-i316089158-s1429595455.html?search=1', 'https://www.daraz.com.bd/products/muslin-soft-thane-saree-for-women-i247107668-s1192477521.html?search=1', 'https://www.daraz.com.bd/products/-i301250806-s1436868924.html?search=1', 'https://www.daraz.com.bd/products/-i226735031-s1284029562.html?search=1', 'https://www.daraz.com.bd/products/-i121137063-s1397648735.html?search=1', 'https://www.daraz.com.bd/products/-i318048599-s1448755087.html?search=1', 'https://www.daraz.com.bd/products/-i287850070-s1287693696.html?search=1', 'https://www.daraz.com.bd/products/handloom-chumki-saree-for-women-sari-i194453760-s1140905004.html?search=1', 'https://www.daraz.com.bd/products/new-exclushive-collection-100-high-qualitiey-deshi-tat-cotton-print-three-piece-3pc-dress-for-women-i293692157-s1301867791.html?search=1', 'https://www.daraz.com.bd/products/-i116436089-s1397673955.html?search=1', 'https://www.daraz.com.bd/products/black-half-silk-tangail-tat-saree-without-blouse-piece-for-women-sari-i244265787-s1288773689.html?search=1', 'https://www.daraz.com.bd/products/red-golden-combnation-12-hand-halfsilk-saree-for-women-sari-i244608006-s1188008940.html?search=1', 'https://www.daraz.com.bd/products/-i184326427-s1129169267.html?search=1', 'https://www.daraz.com.bd/products/exclusive-tangail-multi-color-half-silk-chumki-saree-without-blouse-piece-for-women-sari-i286385133-s1303392304.html?search=1', 'https://www.daraz.com.bd/products/-i313609873-s1406410671.html?search=1', 'https://www.daraz.com.bd/products/-i317972401-s1448032504.html?search=1', 'https://www.daraz.com.bd/products/multicolor-satkahon-saree-for-women-with-tangail-saree-sari-saree-sari-i227382102-s1171508782.html?search=1', 'https://www.daraz.com.bd/products/japani-soft-silk-sharee-for-women-black-sari-saree-i175894425-s1114778039.html?search=1', 'https://www.daraz.com.bd/products/3-3-i314715973-s1417445992.html?search=1', 'https://www.daraz.com.bd/products/-i309588628-s1386015353.html?search=1', 'https://www.daraz.com.bd/products/readymade-stylish-fashionable-koti-dress-hot-kurti-for-girls-long-pure-soft-linen-1-pcs-shadamon-shop-k-300-i203299723-s1424578064.html?search=1', 'https://www.daraz.com.bd/products/moslin-than-sarees-for-women-sari-i246418782-s1299915235.html?search=1', 'https://www.daraz.com.bd/products/-i309999049-s1386449937.html?search=1', 'https://www.daraz.com.bd/products/readymade-stylish-hot-kurti-tops-for-girls-shadamon-shop-bbjjj-i198450420-s1171170723.html?search=1', 'https://www.daraz.com.bd/products/-i160360836-s1092108530.html?search=1', 'https://www.daraz.com.bd/products/-i318092849-s1449236450.html?search=1', 'https://www.daraz.com.bd/products/fashionable-temple-dhupiyan-saree-for-women-all-colour-sharee-for-women-sari-saree-sari-i227381571-s1171520069.html?search=1', 'https://www.daraz.com.bd/products/japani-silk-saree-for-women-sari-i260759975-s1220911333.html?search=1', 'https://www.daraz.com.bd/products/moslin-than-saree-for-womens-black-colour-i247107374-s1303195966.html?search=1', 'https://www.daraz.com.bd/products/-i226721449-s1171129186.html?search=1', 'https://www.daraz.com.bd/products/red-color-traditional-jamdani-saree-for-women-i275530791-s1253514790.html?search=1', 'https://www.daraz.com.bd/products/black-saree-for-women-i274974249-s1252137614.html?search=1', 'https://www.daraz.com.bd/products/multicolor-weightless-jamdani-saree-for-women-i275533647-s1409425168.html?search=1', 'https://www.daraz.com.bd/products/-i303785910-s1354117813.html?search=1', 'https://www.daraz.com.bd/products/-i286807214-s1285122825.html?search=1'] / ['https://static-01.daraz.com.bd/p/6647c82c7693b681bbf574025234e192.jpg', 'https://bd-live-21.slatic.net/kf/Se0e6a7b7206e45afbe89baeebc4c306bF.jpg', 'https://static-01.daraz.com.bd/p/5f9c974c263ecee85889a5d285914b02.jpg', 'https://static-01.daraz.com.bd/p/a8119cb54d24763eb51607dc23761710.jpg', 'https://static-01.daraz.com.bd/p/7e1a78ae732beb53004b1b228a205444.jpg', 'https://static-01.daraz.com.bd/p/6b82eb6699165e49999cbdbceed296f5.jpg', 'https://static-01.daraz.com.bd/p/be6ec295b693d0c452fa0b32cd85b140.jpg', 'https://static-01.daraz.com.bd/p/63d731ba9e9634c2ff363ac46f588c53.jpg', 'https://static-01.daraz.com.bd/p/7be32524d1af555c9f4afb9f020a0298.jpg', 'https://static-01.daraz.com.bd/p/6c158841b80be299c1299b57f532d81f.jpg', 'https://static-01.daraz.com.bd/p/a2be8d1fdafe2f9e9b1be749b3244c6a.jpg', 'https://static-01.daraz.com.bd/p/531ba92dab263d3bc23abb8d6a6f02cc.jpg', 'https://static-01.daraz.com.bd/p/040b6ec931ff0b36921f9b615a8954e9.jpg', 'https://static-01.daraz.com.bd/p/c28d7e697a8e75af3a2d68e622c0ad96.jpg', 'https://static-01.daraz.com.bd/p/081ccedb37c002a727eecf02afff7f61.jpg', 'https://static-01.daraz.com.bd/p/09bc2bb7702c2698384fa13476c39a97.jpg', 'https://static-01.daraz.com.bd/p/c32f19e22156f1d27d487b6eeede50cb.jpg', 'https://static-01.daraz.com.bd/p/a4f9a0070a224ed8a0137ef9cc48c1ec.jpg', 'https://static-01.daraz.com.bd/p/981e25ab082ea1cfea989644f0579b01.jpg', 'https://static-01.daraz.com.bd/p/e5dbe6ba3e4f70ca0df005ed2250e91a.jpg', 'https://static-01.daraz.com.bd/p/9b15692599520b3aeeded5afca135baf.jpg', 'https://static-01.daraz.com.bd/p/a511f51e7ade4fa99976e52596356258.jpg', 'https://static-01.daraz.com.bd/p/f2038f3951b9e73183f7fe36a6572923.jpg', 'https://static-01.daraz.com.bd/p/7a0e300cc7be2c650a4cc2f91bd6f531.jpg', 'https://static-01.daraz.com.bd/p/520adfecea39276d1f5445e9f6a3e8e9.jpg', 'https://static-01.daraz.com.bd/p/6693005193ab88742049ebbc7ccba624.jpg', 'https://static-01.daraz.com.bd/p/f965536bcece716be980a8cd2b3b72b0.jpg', 'https://static-01.daraz.com.bd/p/722ff51816401b6c5f93795efc98599e.jpg', 'https://static-01.daraz.com.bd/p/09d97da73058bc8007116cc40e3bcf0c.jpg', 'https://static-01.daraz.com.bd/p/f8fae1b6c2e35d209dc8e3be15c524fa.jpg', 'https://static-01.daraz.com.bd/p/38d14000142b7328c2d1b3f0e8bf0113.jpg', 'https://static-01.daraz.com.bd/p/526c8b264113390dad5f4ee6327a14eb.jpg', 'https://static-01.daraz.com.bd/p/6dbc23fcf090bb4b5654f73c2eb5def1.jpg', 'https://static-01.daraz.com.bd/p/df737bec424c10c7bbff8b7fe4f907fc.jpg', 'https://static-01.daraz.com.bd/p/d988328e32c9977f7bf082ea3636671c.jpg', 'https://static-01.daraz.com.bd/p/8bce100e53c3ab7fac7f757384eca1c7.jpg', 'https://static-01.daraz.com.bd/p/af5b2395681a9f323781ef06c5eb6ac6.jpg', 'https://static-01.daraz.com.bd/p/acda2363b02a61baf409066cfe7434c3.jpg', 'https://static-01.daraz.com.bd/p/7445195015b8ce7ddd1ccb7c4056aa13.jpg', 'https://static-01.daraz.com.bd/p/bc365ca02e056cfbfe6bbe438cb4e9da.jpg']\n"
     ]
    }
   ],
   "source": [
    "title_list = []\n",
    "link_list = []\n",
    "image_list = []\n",
    "\n",
    "for p in range(1,41):\n",
    "\n",
    "    k=str(p)\n",
    "    title = driver.find_element(By.XPATH,'//*[@id=\"root\"]/div/div[3]/div[1]/div/div[1]/div[2]/div['+k+']/div/div/div[2]/div[2]/a').text\n",
    "    link = driver.find_element(By.XPATH,'//*[@id=\"root\"]/div/div[3]/div[1]/div/div[1]/div[2]/div['+k+']/div/div/div[2]/div[2]/a').get_attribute('href')\n",
    "    image = driver.find_element(By.XPATH,'//*[@id=\"root\"]/div/div[3]/div[1]/div/div[1]/div[2]/div['+k+']/div/div/div[1]/div/a/img').get_attribute('src')\n",
    "\n",
    "    title_list.append(title)\n",
    "    link_list.append(link)\n",
    "    image_list.append(image)\n",
    "\n",
    "print(title_list,\"/\",link_list,\"/\",image_list)    "
   ]
  },
  {
   "cell_type": "code",
   "execution_count": 12,
   "id": "be266033",
   "metadata": {},
   "outputs": [
    {
     "name": "stdout",
     "output_type": "stream",
     "text": [
      "40 / 40 / 40\n"
     ]
    }
   ],
   "source": [
    "data = {'Title':title_list, 'Image_link':link_list, 'Image':image_list}\n",
    "df = pd.DataFrame(data)\n",
    "df.to_csv('output.csv',index = False)\n",
    "time.sleep(40)\n",
    "print(len(title_list),\"/\",len(link_list),\"/\",len(image_list))   "
   ]
  },
  {
   "cell_type": "markdown",
   "id": "8321604d",
   "metadata": {},
   "source": [
    "### Extract title, link and image from multiple pages"
   ]
  },
  {
   "cell_type": "code",
   "execution_count": 13,
   "id": "963326a9",
   "metadata": {},
   "outputs": [
    {
     "name": "stdout",
     "output_type": "stream",
     "text": [
      "['New exclusive Designed Stitched Linen Naira Kat Stylist and Fashionable Three Pis For Women / Girls', 'Exclusive Salwar kameez set', 'Fashionable Halfsilk Chumki Saree for Womens-All color - Sari', 'Plus par Saree for fashionable Women-Black color', 'Moslin Than Saree for womens-all colour', 'High Quality Pakistani Malhar Women Salwar Kameez Three Piece For Women', 'Muslin Soft Thane Saree for Women - শাড়ি', 'Cotton Sharee Shapewear Fish cut Petticoat Best Qualityfull Good Stitching for woman', 'Dhupain Cheak Sarees for Women Black', 'Linen Skirt Palazzo Best Qualityfull Good Stitching Imported Fabric For Women', 'New exclusive Designed Stitched Cotton Naira Kat Stylist and Fashionable Three Pis For Women / Girls', 'মেয়েদের জন্য শাড়ীর সাথে পরার জন্য আকর্ষণীয় শেপওয়ার ফিশকাত পেটিকোট।।', 'Handloom Chumki Saree For Women - Sari', 'New Exclushive Collection 100% High Qualitiey Deshi Tat Three Piece [3pc] dress For Women', 'Palazzo Best Qualityfull Good stitching For Women (China Linen Fabric)', 'Black Half Silk Tangail Tat Saree Without Blouse Piece For Women - Sari', 'Red & Golden Combnation 12 Hand Halfsilk Saree for Women - Sari', 'Cotton Unstitched Salwar kameez for Women', 'Exclusive Tangail Multi Color Half Silk Chumki Saree Without Blouse Piece For Women - Sari', 'Tangail halfsilk Chumki saree for women All colour. (Any colour inbox me)', \"Sirajganj Shari Ghor's Half Silk Pure Cotton Deep Blue Handloomed New Designed Saree\", 'Multicolor satkahon saree for women with tangail saree - Sari - Saree - শাড়ি - Sari', 'Japani Soft Silk Sharee For Women - Black - Sari - Saree - শাড়ি', 'New exclusive designed high quality lilen skin print 3 pis for women. - Dress For Girls - 3 Pice Dress - Three Piece', 'Multicolor Cotton+silk Check Saree For Women With Running Blouse Peice', 'Readymade Stylish Fashionable Koti dress Hot Kurti For Girls Long Pure Soft Linen (1 Pcs) ShadaMon Shop K-300', 'Moslin Than Sarees For Women - Sari', 'Fashionable Trendy Tangail Tat Golden Par Saree for Women - All Color', 'Readymade Stylish Hot Kurti tops For Girls ( ShadaMon Shop )BBJJJ', 'Multicolor pure tangail half silk jamdani saree for women', 'Chumki Saree All Colour For Woman', 'Fashionable Temple Dhupiyan Saree For Women (All Colour) - Sharee For Women - Sari - Saree - শাড়ি - Sari - শাড়ি', 'Japani Silk Saree for Women - Sari - শাড়ি', 'Moslin Than Saree for womens black colour - শাড়ি', 'Black & White Dhupiyan Check Saree For Women (Dhupian sari of Tangail)', 'Red Color Traditional Jamdani Saree For Women', 'Black Saree for Women', 'Multicolor Weightless Jamdani Saree For Women', 'Half Silk Chumki Sarees for Women Tangail Saree', 'Soft Silk Katan Saree Without Blouse Piece For Women'] / ['https://www.daraz.com.bd/products/-i318042885-s1448755239.html?search=1', 'https://www.daraz.com.bd/products/-i318075072-s1448919881.html?search=1', 'https://www.daraz.com.bd/products/-i298150813-s1323055118.html?search=1', 'https://www.daraz.com.bd/products/-i226721901-s1284038112.html?search=1', 'https://www.daraz.com.bd/products/-i252828631-s1281106443.html?search=1', 'https://www.daraz.com.bd/products/-i316089158-s1429595455.html?search=1', 'https://www.daraz.com.bd/products/muslin-soft-thane-saree-for-women-i247107668-s1192477521.html?search=1', 'https://www.daraz.com.bd/products/-i301250806-s1436868924.html?search=1', 'https://www.daraz.com.bd/products/-i226735031-s1284029562.html?search=1', 'https://www.daraz.com.bd/products/-i121137063-s1397648735.html?search=1', 'https://www.daraz.com.bd/products/-i318048599-s1448755087.html?search=1', 'https://www.daraz.com.bd/products/-i287850070-s1287693696.html?search=1', 'https://www.daraz.com.bd/products/handloom-chumki-saree-for-women-sari-i194453760-s1140905004.html?search=1', 'https://www.daraz.com.bd/products/new-exclushive-collection-100-high-qualitiey-deshi-tat-cotton-print-three-piece-3pc-dress-for-women-i293692157-s1301867791.html?search=1', 'https://www.daraz.com.bd/products/-i116436089-s1397673955.html?search=1', 'https://www.daraz.com.bd/products/black-half-silk-tangail-tat-saree-without-blouse-piece-for-women-sari-i244265787-s1288773689.html?search=1', 'https://www.daraz.com.bd/products/red-golden-combnation-12-hand-halfsilk-saree-for-women-sari-i244608006-s1188008940.html?search=1', 'https://www.daraz.com.bd/products/-i184326427-s1129169267.html?search=1', 'https://www.daraz.com.bd/products/exclusive-tangail-multi-color-half-silk-chumki-saree-without-blouse-piece-for-women-sari-i286385133-s1303392304.html?search=1', 'https://www.daraz.com.bd/products/-i313609873-s1406410671.html?search=1', 'https://www.daraz.com.bd/products/-i317972401-s1448032504.html?search=1', 'https://www.daraz.com.bd/products/multicolor-satkahon-saree-for-women-with-tangail-saree-sari-saree-sari-i227382102-s1171508782.html?search=1', 'https://www.daraz.com.bd/products/japani-soft-silk-sharee-for-women-black-sari-saree-i175894425-s1114778039.html?search=1', 'https://www.daraz.com.bd/products/3-3-i314715973-s1417445992.html?search=1', 'https://www.daraz.com.bd/products/-i309588628-s1386015353.html?search=1', 'https://www.daraz.com.bd/products/readymade-stylish-fashionable-koti-dress-hot-kurti-for-girls-long-pure-soft-linen-1-pcs-shadamon-shop-k-300-i203299723-s1424578064.html?search=1', 'https://www.daraz.com.bd/products/moslin-than-sarees-for-women-sari-i246418782-s1299915235.html?search=1', 'https://www.daraz.com.bd/products/-i309999049-s1386449937.html?search=1', 'https://www.daraz.com.bd/products/readymade-stylish-hot-kurti-tops-for-girls-shadamon-shop-bbjjj-i198450420-s1171170723.html?search=1', 'https://www.daraz.com.bd/products/-i160360836-s1092108530.html?search=1', 'https://www.daraz.com.bd/products/-i318092849-s1449236450.html?search=1', 'https://www.daraz.com.bd/products/fashionable-temple-dhupiyan-saree-for-women-all-colour-sharee-for-women-sari-saree-sari-i227381571-s1171520069.html?search=1', 'https://www.daraz.com.bd/products/japani-silk-saree-for-women-sari-i260759975-s1220911333.html?search=1', 'https://www.daraz.com.bd/products/moslin-than-saree-for-womens-black-colour-i247107374-s1303195966.html?search=1', 'https://www.daraz.com.bd/products/-i226721449-s1171129186.html?search=1', 'https://www.daraz.com.bd/products/red-color-traditional-jamdani-saree-for-women-i275530791-s1253514790.html?search=1', 'https://www.daraz.com.bd/products/black-saree-for-women-i274974249-s1252137614.html?search=1', 'https://www.daraz.com.bd/products/multicolor-weightless-jamdani-saree-for-women-i275533647-s1409425168.html?search=1', 'https://www.daraz.com.bd/products/-i303785910-s1354117813.html?search=1', 'https://www.daraz.com.bd/products/-i286807214-s1285122825.html?search=1'] / ['https://static-01.daraz.com.bd/p/6647c82c7693b681bbf574025234e192.jpg', 'https://bd-live-21.slatic.net/kf/Se0e6a7b7206e45afbe89baeebc4c306bF.jpg', 'https://static-01.daraz.com.bd/p/5f9c974c263ecee85889a5d285914b02.jpg', 'https://static-01.daraz.com.bd/p/a8119cb54d24763eb51607dc23761710.jpg', 'https://static-01.daraz.com.bd/p/7e1a78ae732beb53004b1b228a205444.jpg', 'https://static-01.daraz.com.bd/p/6b82eb6699165e49999cbdbceed296f5.jpg', 'https://static-01.daraz.com.bd/p/be6ec295b693d0c452fa0b32cd85b140.jpg', 'https://static-01.daraz.com.bd/p/63d731ba9e9634c2ff363ac46f588c53.jpg', 'https://static-01.daraz.com.bd/p/7be32524d1af555c9f4afb9f020a0298.jpg', 'https://static-01.daraz.com.bd/p/6c158841b80be299c1299b57f532d81f.jpg', 'https://static-01.daraz.com.bd/p/a2be8d1fdafe2f9e9b1be749b3244c6a.jpg', 'https://static-01.daraz.com.bd/p/531ba92dab263d3bc23abb8d6a6f02cc.jpg', 'https://static-01.daraz.com.bd/p/040b6ec931ff0b36921f9b615a8954e9.jpg', 'https://static-01.daraz.com.bd/p/c28d7e697a8e75af3a2d68e622c0ad96.jpg', 'https://static-01.daraz.com.bd/p/081ccedb37c002a727eecf02afff7f61.jpg', 'https://static-01.daraz.com.bd/p/09bc2bb7702c2698384fa13476c39a97.jpg', 'https://static-01.daraz.com.bd/p/c32f19e22156f1d27d487b6eeede50cb.jpg', 'https://static-01.daraz.com.bd/p/a4f9a0070a224ed8a0137ef9cc48c1ec.jpg', 'https://static-01.daraz.com.bd/p/981e25ab082ea1cfea989644f0579b01.jpg', 'https://static-01.daraz.com.bd/p/e5dbe6ba3e4f70ca0df005ed2250e91a.jpg', 'https://static-01.daraz.com.bd/p/9b15692599520b3aeeded5afca135baf.jpg', 'https://static-01.daraz.com.bd/p/a511f51e7ade4fa99976e52596356258.jpg', 'https://static-01.daraz.com.bd/p/f2038f3951b9e73183f7fe36a6572923.jpg', 'https://static-01.daraz.com.bd/p/7a0e300cc7be2c650a4cc2f91bd6f531.jpg', 'https://static-01.daraz.com.bd/p/520adfecea39276d1f5445e9f6a3e8e9.jpg', 'https://static-01.daraz.com.bd/p/6693005193ab88742049ebbc7ccba624.jpg', 'https://static-01.daraz.com.bd/p/f965536bcece716be980a8cd2b3b72b0.jpg', 'https://static-01.daraz.com.bd/p/722ff51816401b6c5f93795efc98599e.jpg', 'https://static-01.daraz.com.bd/p/09d97da73058bc8007116cc40e3bcf0c.jpg', 'https://static-01.daraz.com.bd/p/f8fae1b6c2e35d209dc8e3be15c524fa.jpg', 'https://static-01.daraz.com.bd/p/38d14000142b7328c2d1b3f0e8bf0113.jpg', 'https://static-01.daraz.com.bd/p/526c8b264113390dad5f4ee6327a14eb.jpg', 'https://static-01.daraz.com.bd/p/6dbc23fcf090bb4b5654f73c2eb5def1.jpg', 'https://static-01.daraz.com.bd/p/df737bec424c10c7bbff8b7fe4f907fc.jpg', 'https://static-01.daraz.com.bd/p/d988328e32c9977f7bf082ea3636671c.jpg', 'https://static-01.daraz.com.bd/p/8bce100e53c3ab7fac7f757384eca1c7.jpg', 'https://static-01.daraz.com.bd/p/af5b2395681a9f323781ef06c5eb6ac6.jpg', 'https://static-01.daraz.com.bd/p/acda2363b02a61baf409066cfe7434c3.jpg', 'https://static-01.daraz.com.bd/p/7445195015b8ce7ddd1ccb7c4056aa13.jpg', 'https://static-01.daraz.com.bd/p/bc365ca02e056cfbfe6bbe438cb4e9da.jpg']\n"
     ]
    },
    {
     "name": "stdout",
     "output_type": "stream",
     "text": [
      "['New exclusive Designed Stitched Linen Naira Kat Stylist and Fashionable Three Pis For Women / Girls', 'Exclusive Salwar kameez set', 'Fashionable Halfsilk Chumki Saree for Womens-All color - Sari', 'Plus par Saree for fashionable Women-Black color', 'Moslin Than Saree for womens-all colour', 'High Quality Pakistani Malhar Women Salwar Kameez Three Piece For Women', 'Muslin Soft Thane Saree for Women - শাড়ি', 'Cotton Sharee Shapewear Fish cut Petticoat Best Qualityfull Good Stitching for woman', 'Dhupain Cheak Sarees for Women Black', 'Linen Skirt Palazzo Best Qualityfull Good Stitching Imported Fabric For Women', 'New exclusive Designed Stitched Cotton Naira Kat Stylist and Fashionable Three Pis For Women / Girls', 'মেয়েদের জন্য শাড়ীর সাথে পরার জন্য আকর্ষণীয় শেপওয়ার ফিশকাত পেটিকোট।।', 'Handloom Chumki Saree For Women - Sari', 'New Exclushive Collection 100% High Qualitiey Deshi Tat Three Piece [3pc] dress For Women', 'Palazzo Best Qualityfull Good stitching For Women (China Linen Fabric)', 'Black Half Silk Tangail Tat Saree Without Blouse Piece For Women - Sari', 'Red & Golden Combnation 12 Hand Halfsilk Saree for Women - Sari', 'Cotton Unstitched Salwar kameez for Women', 'Exclusive Tangail Multi Color Half Silk Chumki Saree Without Blouse Piece For Women - Sari', 'Tangail halfsilk Chumki saree for women All colour. (Any colour inbox me)', \"Sirajganj Shari Ghor's Half Silk Pure Cotton Deep Blue Handloomed New Designed Saree\", 'Multicolor satkahon saree for women with tangail saree - Sari - Saree - শাড়ি - Sari', 'Japani Soft Silk Sharee For Women - Black - Sari - Saree - শাড়ি', 'New exclusive designed high quality lilen skin print 3 pis for women. - Dress For Girls - 3 Pice Dress - Three Piece', 'Multicolor Cotton+silk Check Saree For Women With Running Blouse Peice', 'Readymade Stylish Fashionable Koti dress Hot Kurti For Girls Long Pure Soft Linen (1 Pcs) ShadaMon Shop K-300', 'Moslin Than Sarees For Women - Sari', 'Fashionable Trendy Tangail Tat Golden Par Saree for Women - All Color', 'Readymade Stylish Hot Kurti tops For Girls ( ShadaMon Shop )BBJJJ', 'Multicolor pure tangail half silk jamdani saree for women', 'Chumki Saree All Colour For Woman', 'Fashionable Temple Dhupiyan Saree For Women (All Colour) - Sharee For Women - Sari - Saree - শাড়ি - Sari - শাড়ি', 'Japani Silk Saree for Women - Sari - শাড়ি', 'Moslin Than Saree for womens black colour - শাড়ি', 'Black & White Dhupiyan Check Saree For Women (Dhupian sari of Tangail)', 'Red Color Traditional Jamdani Saree For Women', 'Black Saree for Women', 'Multicolor Weightless Jamdani Saree For Women', 'Half Silk Chumki Sarees for Women Tangail Saree', 'Soft Silk Katan Saree Without Blouse Piece For Women', 'New exclusive Designed Stitched Linen Naira Kat Stylist and Fashionable Three Pis For Women / Girls', 'Exclusive Salwar kameez set', 'Fashionable Halfsilk Chumki Saree for Womens-All color - Sari', 'Plus par Saree for fashionable Women-Black color', 'Moslin Than Saree for womens-all colour', 'High Quality Pakistani Malhar Women Salwar Kameez Three Piece For Women', 'Muslin Soft Thane Saree for Women - শাড়ি', 'Cotton Sharee Shapewear Fish cut Petticoat Best Qualityfull Good Stitching for woman', 'Dhupain Cheak Sarees for Women Black', 'Linen Skirt Palazzo Best Qualityfull Good Stitching Imported Fabric For Women', 'New exclusive Designed Stitched Cotton Naira Kat Stylist and Fashionable Three Pis For Women / Girls', 'মেয়েদের জন্য শাড়ীর সাথে পরার জন্য আকর্ষণীয় শেপওয়ার ফিশকাত পেটিকোট।।', 'Handloom Chumki Saree For Women - Sari', 'New Exclushive Collection 100% High Qualitiey Deshi Tat Three Piece [3pc] dress For Women', 'Palazzo Best Qualityfull Good stitching For Women (China Linen Fabric)', 'Black Half Silk Tangail Tat Saree Without Blouse Piece For Women - Sari', 'Red & Golden Combnation 12 Hand Halfsilk Saree for Women - Sari', 'Cotton Unstitched Salwar kameez for Women', 'Exclusive Tangail Multi Color Half Silk Chumki Saree Without Blouse Piece For Women - Sari', 'Tangail halfsilk Chumki saree for women All colour. (Any colour inbox me)', \"Sirajganj Shari Ghor's Half Silk Pure Cotton Deep Blue Handloomed New Designed Saree\", 'Multicolor satkahon saree for women with tangail saree - Sari - Saree - শাড়ি - Sari', 'Japani Soft Silk Sharee For Women - Black - Sari - Saree - শাড়ি', 'New exclusive designed high quality lilen skin print 3 pis for women. - Dress For Girls - 3 Pice Dress - Three Piece', 'Multicolor Cotton+silk Check Saree For Women With Running Blouse Peice', 'Readymade Stylish Fashionable Koti dress Hot Kurti For Girls Long Pure Soft Linen (1 Pcs) ShadaMon Shop K-300', 'Moslin Than Sarees For Women - Sari', 'Fashionable Trendy Tangail Tat Golden Par Saree for Women - All Color', 'Readymade Stylish Hot Kurti tops For Girls ( ShadaMon Shop )BBJJJ', 'Multicolor pure tangail half silk jamdani saree for women', 'Chumki Saree All Colour For Woman', 'Fashionable Temple Dhupiyan Saree For Women (All Colour) - Sharee For Women - Sari - Saree - শাড়ি - Sari - শাড়ি', 'Japani Silk Saree for Women - Sari - শাড়ি', 'Moslin Than Saree for womens black colour - শাড়ি', 'Black & White Dhupiyan Check Saree For Women (Dhupian sari of Tangail)', 'Red Color Traditional Jamdani Saree For Women', 'Black Saree for Women', 'Multicolor Weightless Jamdani Saree For Women', 'Half Silk Chumki Sarees for Women Tangail Saree', 'Soft Silk Katan Saree Without Blouse Piece For Women'] / ['https://www.daraz.com.bd/products/-i318042885-s1448755239.html?search=1', 'https://www.daraz.com.bd/products/-i318075072-s1448919881.html?search=1', 'https://www.daraz.com.bd/products/-i298150813-s1323055118.html?search=1', 'https://www.daraz.com.bd/products/-i226721901-s1284038112.html?search=1', 'https://www.daraz.com.bd/products/-i252828631-s1281106443.html?search=1', 'https://www.daraz.com.bd/products/-i316089158-s1429595455.html?search=1', 'https://www.daraz.com.bd/products/muslin-soft-thane-saree-for-women-i247107668-s1192477521.html?search=1', 'https://www.daraz.com.bd/products/-i301250806-s1436868924.html?search=1', 'https://www.daraz.com.bd/products/-i226735031-s1284029562.html?search=1', 'https://www.daraz.com.bd/products/-i121137063-s1397648735.html?search=1', 'https://www.daraz.com.bd/products/-i318048599-s1448755087.html?search=1', 'https://www.daraz.com.bd/products/-i287850070-s1287693696.html?search=1', 'https://www.daraz.com.bd/products/handloom-chumki-saree-for-women-sari-i194453760-s1140905004.html?search=1', 'https://www.daraz.com.bd/products/new-exclushive-collection-100-high-qualitiey-deshi-tat-cotton-print-three-piece-3pc-dress-for-women-i293692157-s1301867791.html?search=1', 'https://www.daraz.com.bd/products/-i116436089-s1397673955.html?search=1', 'https://www.daraz.com.bd/products/black-half-silk-tangail-tat-saree-without-blouse-piece-for-women-sari-i244265787-s1288773689.html?search=1', 'https://www.daraz.com.bd/products/red-golden-combnation-12-hand-halfsilk-saree-for-women-sari-i244608006-s1188008940.html?search=1', 'https://www.daraz.com.bd/products/-i184326427-s1129169267.html?search=1', 'https://www.daraz.com.bd/products/exclusive-tangail-multi-color-half-silk-chumki-saree-without-blouse-piece-for-women-sari-i286385133-s1303392304.html?search=1', 'https://www.daraz.com.bd/products/-i313609873-s1406410671.html?search=1', 'https://www.daraz.com.bd/products/-i317972401-s1448032504.html?search=1', 'https://www.daraz.com.bd/products/multicolor-satkahon-saree-for-women-with-tangail-saree-sari-saree-sari-i227382102-s1171508782.html?search=1', 'https://www.daraz.com.bd/products/japani-soft-silk-sharee-for-women-black-sari-saree-i175894425-s1114778039.html?search=1', 'https://www.daraz.com.bd/products/3-3-i314715973-s1417445992.html?search=1', 'https://www.daraz.com.bd/products/-i309588628-s1386015353.html?search=1', 'https://www.daraz.com.bd/products/readymade-stylish-fashionable-koti-dress-hot-kurti-for-girls-long-pure-soft-linen-1-pcs-shadamon-shop-k-300-i203299723-s1424578064.html?search=1', 'https://www.daraz.com.bd/products/moslin-than-sarees-for-women-sari-i246418782-s1299915235.html?search=1', 'https://www.daraz.com.bd/products/-i309999049-s1386449937.html?search=1', 'https://www.daraz.com.bd/products/readymade-stylish-hot-kurti-tops-for-girls-shadamon-shop-bbjjj-i198450420-s1171170723.html?search=1', 'https://www.daraz.com.bd/products/-i160360836-s1092108530.html?search=1', 'https://www.daraz.com.bd/products/-i318092849-s1449236450.html?search=1', 'https://www.daraz.com.bd/products/fashionable-temple-dhupiyan-saree-for-women-all-colour-sharee-for-women-sari-saree-sari-i227381571-s1171520069.html?search=1', 'https://www.daraz.com.bd/products/japani-silk-saree-for-women-sari-i260759975-s1220911333.html?search=1', 'https://www.daraz.com.bd/products/moslin-than-saree-for-womens-black-colour-i247107374-s1303195966.html?search=1', 'https://www.daraz.com.bd/products/-i226721449-s1171129186.html?search=1', 'https://www.daraz.com.bd/products/red-color-traditional-jamdani-saree-for-women-i275530791-s1253514790.html?search=1', 'https://www.daraz.com.bd/products/black-saree-for-women-i274974249-s1252137614.html?search=1', 'https://www.daraz.com.bd/products/multicolor-weightless-jamdani-saree-for-women-i275533647-s1409425168.html?search=1', 'https://www.daraz.com.bd/products/-i303785910-s1354117813.html?search=1', 'https://www.daraz.com.bd/products/-i286807214-s1285122825.html?search=1', 'https://www.daraz.com.bd/products/-i318042885-s1448755239.html?search=1', 'https://www.daraz.com.bd/products/-i318075072-s1448919881.html?search=1', 'https://www.daraz.com.bd/products/-i298150813-s1323055118.html?search=1', 'https://www.daraz.com.bd/products/-i226721901-s1284038112.html?search=1', 'https://www.daraz.com.bd/products/-i252828631-s1281106443.html?search=1', 'https://www.daraz.com.bd/products/-i316089158-s1429595455.html?search=1', 'https://www.daraz.com.bd/products/muslin-soft-thane-saree-for-women-i247107668-s1192477521.html?search=1', 'https://www.daraz.com.bd/products/-i301250806-s1436868924.html?search=1', 'https://www.daraz.com.bd/products/-i226735031-s1284029562.html?search=1', 'https://www.daraz.com.bd/products/-i121137063-s1397648735.html?search=1', 'https://www.daraz.com.bd/products/-i318048599-s1448755087.html?search=1', 'https://www.daraz.com.bd/products/-i287850070-s1287693696.html?search=1', 'https://www.daraz.com.bd/products/handloom-chumki-saree-for-women-sari-i194453760-s1140905004.html?search=1', 'https://www.daraz.com.bd/products/new-exclushive-collection-100-high-qualitiey-deshi-tat-cotton-print-three-piece-3pc-dress-for-women-i293692157-s1301867791.html?search=1', 'https://www.daraz.com.bd/products/-i116436089-s1397673955.html?search=1', 'https://www.daraz.com.bd/products/black-half-silk-tangail-tat-saree-without-blouse-piece-for-women-sari-i244265787-s1288773689.html?search=1', 'https://www.daraz.com.bd/products/red-golden-combnation-12-hand-halfsilk-saree-for-women-sari-i244608006-s1188008940.html?search=1', 'https://www.daraz.com.bd/products/-i184326427-s1129169267.html?search=1', 'https://www.daraz.com.bd/products/exclusive-tangail-multi-color-half-silk-chumki-saree-without-blouse-piece-for-women-sari-i286385133-s1303392304.html?search=1', 'https://www.daraz.com.bd/products/-i313609873-s1406410671.html?search=1', 'https://www.daraz.com.bd/products/-i317972401-s1448032504.html?search=1', 'https://www.daraz.com.bd/products/multicolor-satkahon-saree-for-women-with-tangail-saree-sari-saree-sari-i227382102-s1171508782.html?search=1', 'https://www.daraz.com.bd/products/japani-soft-silk-sharee-for-women-black-sari-saree-i175894425-s1114778039.html?search=1', 'https://www.daraz.com.bd/products/3-3-i314715973-s1417445992.html?search=1', 'https://www.daraz.com.bd/products/-i309588628-s1386015353.html?search=1', 'https://www.daraz.com.bd/products/readymade-stylish-fashionable-koti-dress-hot-kurti-for-girls-long-pure-soft-linen-1-pcs-shadamon-shop-k-300-i203299723-s1424578064.html?search=1', 'https://www.daraz.com.bd/products/moslin-than-sarees-for-women-sari-i246418782-s1299915235.html?search=1', 'https://www.daraz.com.bd/products/-i309999049-s1386449937.html?search=1', 'https://www.daraz.com.bd/products/readymade-stylish-hot-kurti-tops-for-girls-shadamon-shop-bbjjj-i198450420-s1171170723.html?search=1', 'https://www.daraz.com.bd/products/-i160360836-s1092108530.html?search=1', 'https://www.daraz.com.bd/products/-i318092849-s1449236450.html?search=1', 'https://www.daraz.com.bd/products/fashionable-temple-dhupiyan-saree-for-women-all-colour-sharee-for-women-sari-saree-sari-i227381571-s1171520069.html?search=1', 'https://www.daraz.com.bd/products/japani-silk-saree-for-women-sari-i260759975-s1220911333.html?search=1', 'https://www.daraz.com.bd/products/moslin-than-saree-for-womens-black-colour-i247107374-s1303195966.html?search=1', 'https://www.daraz.com.bd/products/-i226721449-s1171129186.html?search=1', 'https://www.daraz.com.bd/products/red-color-traditional-jamdani-saree-for-women-i275530791-s1253514790.html?search=1', 'https://www.daraz.com.bd/products/black-saree-for-women-i274974249-s1252137614.html?search=1', 'https://www.daraz.com.bd/products/multicolor-weightless-jamdani-saree-for-women-i275533647-s1409425168.html?search=1', 'https://www.daraz.com.bd/products/-i303785910-s1354117813.html?search=1', 'https://www.daraz.com.bd/products/-i286807214-s1285122825.html?search=1'] / ['https://static-01.daraz.com.bd/p/6647c82c7693b681bbf574025234e192.jpg', 'https://bd-live-21.slatic.net/kf/Se0e6a7b7206e45afbe89baeebc4c306bF.jpg', 'https://static-01.daraz.com.bd/p/5f9c974c263ecee85889a5d285914b02.jpg', 'https://static-01.daraz.com.bd/p/a8119cb54d24763eb51607dc23761710.jpg', 'https://static-01.daraz.com.bd/p/7e1a78ae732beb53004b1b228a205444.jpg', 'https://static-01.daraz.com.bd/p/6b82eb6699165e49999cbdbceed296f5.jpg', 'https://static-01.daraz.com.bd/p/be6ec295b693d0c452fa0b32cd85b140.jpg', 'https://static-01.daraz.com.bd/p/63d731ba9e9634c2ff363ac46f588c53.jpg', 'https://static-01.daraz.com.bd/p/7be32524d1af555c9f4afb9f020a0298.jpg', 'https://static-01.daraz.com.bd/p/6c158841b80be299c1299b57f532d81f.jpg', 'https://static-01.daraz.com.bd/p/a2be8d1fdafe2f9e9b1be749b3244c6a.jpg', 'https://static-01.daraz.com.bd/p/531ba92dab263d3bc23abb8d6a6f02cc.jpg', 'https://static-01.daraz.com.bd/p/040b6ec931ff0b36921f9b615a8954e9.jpg', 'https://static-01.daraz.com.bd/p/c28d7e697a8e75af3a2d68e622c0ad96.jpg', 'https://static-01.daraz.com.bd/p/081ccedb37c002a727eecf02afff7f61.jpg', 'https://static-01.daraz.com.bd/p/09bc2bb7702c2698384fa13476c39a97.jpg', 'https://static-01.daraz.com.bd/p/c32f19e22156f1d27d487b6eeede50cb.jpg', 'https://static-01.daraz.com.bd/p/a4f9a0070a224ed8a0137ef9cc48c1ec.jpg', 'https://static-01.daraz.com.bd/p/981e25ab082ea1cfea989644f0579b01.jpg', 'https://static-01.daraz.com.bd/p/e5dbe6ba3e4f70ca0df005ed2250e91a.jpg', 'https://static-01.daraz.com.bd/p/9b15692599520b3aeeded5afca135baf.jpg', 'https://static-01.daraz.com.bd/p/a511f51e7ade4fa99976e52596356258.jpg', 'https://static-01.daraz.com.bd/p/f2038f3951b9e73183f7fe36a6572923.jpg', 'https://static-01.daraz.com.bd/p/7a0e300cc7be2c650a4cc2f91bd6f531.jpg', 'https://static-01.daraz.com.bd/p/520adfecea39276d1f5445e9f6a3e8e9.jpg', 'https://static-01.daraz.com.bd/p/6693005193ab88742049ebbc7ccba624.jpg', 'https://static-01.daraz.com.bd/p/f965536bcece716be980a8cd2b3b72b0.jpg', 'https://static-01.daraz.com.bd/p/722ff51816401b6c5f93795efc98599e.jpg', 'https://static-01.daraz.com.bd/p/09d97da73058bc8007116cc40e3bcf0c.jpg', 'https://static-01.daraz.com.bd/p/f8fae1b6c2e35d209dc8e3be15c524fa.jpg', 'https://static-01.daraz.com.bd/p/38d14000142b7328c2d1b3f0e8bf0113.jpg', 'https://static-01.daraz.com.bd/p/526c8b264113390dad5f4ee6327a14eb.jpg', 'https://static-01.daraz.com.bd/p/6dbc23fcf090bb4b5654f73c2eb5def1.jpg', 'https://static-01.daraz.com.bd/p/df737bec424c10c7bbff8b7fe4f907fc.jpg', 'https://static-01.daraz.com.bd/p/d988328e32c9977f7bf082ea3636671c.jpg', 'https://static-01.daraz.com.bd/p/8bce100e53c3ab7fac7f757384eca1c7.jpg', 'https://static-01.daraz.com.bd/p/af5b2395681a9f323781ef06c5eb6ac6.jpg', 'https://static-01.daraz.com.bd/p/acda2363b02a61baf409066cfe7434c3.jpg', 'https://static-01.daraz.com.bd/p/7445195015b8ce7ddd1ccb7c4056aa13.jpg', 'https://static-01.daraz.com.bd/p/bc365ca02e056cfbfe6bbe438cb4e9da.jpg', 'https://static-01.daraz.com.bd/p/6647c82c7693b681bbf574025234e192.jpg', 'https://bd-live-21.slatic.net/kf/Se0e6a7b7206e45afbe89baeebc4c306bF.jpg', 'https://static-01.daraz.com.bd/p/5f9c974c263ecee85889a5d285914b02.jpg', 'https://static-01.daraz.com.bd/p/a8119cb54d24763eb51607dc23761710.jpg', 'https://static-01.daraz.com.bd/p/7e1a78ae732beb53004b1b228a205444.jpg', 'https://static-01.daraz.com.bd/p/6b82eb6699165e49999cbdbceed296f5.jpg', 'https://static-01.daraz.com.bd/p/be6ec295b693d0c452fa0b32cd85b140.jpg', 'https://static-01.daraz.com.bd/p/63d731ba9e9634c2ff363ac46f588c53.jpg', 'https://static-01.daraz.com.bd/p/7be32524d1af555c9f4afb9f020a0298.jpg', 'https://static-01.daraz.com.bd/p/6c158841b80be299c1299b57f532d81f.jpg', 'https://static-01.daraz.com.bd/p/a2be8d1fdafe2f9e9b1be749b3244c6a.jpg', 'https://static-01.daraz.com.bd/p/531ba92dab263d3bc23abb8d6a6f02cc.jpg', 'https://static-01.daraz.com.bd/p/040b6ec931ff0b36921f9b615a8954e9.jpg', 'https://static-01.daraz.com.bd/p/c28d7e697a8e75af3a2d68e622c0ad96.jpg', 'https://static-01.daraz.com.bd/p/081ccedb37c002a727eecf02afff7f61.jpg', 'https://static-01.daraz.com.bd/p/09bc2bb7702c2698384fa13476c39a97.jpg', 'https://static-01.daraz.com.bd/p/c32f19e22156f1d27d487b6eeede50cb.jpg', 'https://static-01.daraz.com.bd/p/a4f9a0070a224ed8a0137ef9cc48c1ec.jpg', 'https://static-01.daraz.com.bd/p/981e25ab082ea1cfea989644f0579b01.jpg', 'https://static-01.daraz.com.bd/p/e5dbe6ba3e4f70ca0df005ed2250e91a.jpg', 'https://static-01.daraz.com.bd/p/9b15692599520b3aeeded5afca135baf.jpg', 'https://static-01.daraz.com.bd/p/a511f51e7ade4fa99976e52596356258.jpg', 'https://static-01.daraz.com.bd/p/f2038f3951b9e73183f7fe36a6572923.jpg', 'https://static-01.daraz.com.bd/p/7a0e300cc7be2c650a4cc2f91bd6f531.jpg', 'https://static-01.daraz.com.bd/p/520adfecea39276d1f5445e9f6a3e8e9.jpg', 'https://static-01.daraz.com.bd/p/6693005193ab88742049ebbc7ccba624.jpg', 'https://static-01.daraz.com.bd/p/f965536bcece716be980a8cd2b3b72b0.jpg', 'https://static-01.daraz.com.bd/p/722ff51816401b6c5f93795efc98599e.jpg', 'https://static-01.daraz.com.bd/p/09d97da73058bc8007116cc40e3bcf0c.jpg', 'https://static-01.daraz.com.bd/p/f8fae1b6c2e35d209dc8e3be15c524fa.jpg', 'https://static-01.daraz.com.bd/p/38d14000142b7328c2d1b3f0e8bf0113.jpg', 'https://static-01.daraz.com.bd/p/526c8b264113390dad5f4ee6327a14eb.jpg', 'https://static-01.daraz.com.bd/p/6dbc23fcf090bb4b5654f73c2eb5def1.jpg', 'https://static-01.daraz.com.bd/p/df737bec424c10c7bbff8b7fe4f907fc.jpg', 'https://static-01.daraz.com.bd/p/d988328e32c9977f7bf082ea3636671c.jpg', 'https://static-01.daraz.com.bd/p/8bce100e53c3ab7fac7f757384eca1c7.jpg', 'https://static-01.daraz.com.bd/p/af5b2395681a9f323781ef06c5eb6ac6.jpg', 'https://static-01.daraz.com.bd/p/acda2363b02a61baf409066cfe7434c3.jpg', 'https://static-01.daraz.com.bd/p/7445195015b8ce7ddd1ccb7c4056aa13.jpg', 'https://static-01.daraz.com.bd/p/bc365ca02e056cfbfe6bbe438cb4e9da.jpg']\n"
     ]
    },
    {
     "name": "stdout",
     "output_type": "stream",
     "text": [
      "['New exclusive Designed Stitched Linen Naira Kat Stylist and Fashionable Three Pis For Women / Girls', 'Exclusive Salwar kameez set', 'Fashionable Halfsilk Chumki Saree for Womens-All color - Sari', 'Plus par Saree for fashionable Women-Black color', 'Moslin Than Saree for womens-all colour', 'High Quality Pakistani Malhar Women Salwar Kameez Three Piece For Women', 'Muslin Soft Thane Saree for Women - শাড়ি', 'Cotton Sharee Shapewear Fish cut Petticoat Best Qualityfull Good Stitching for woman', 'Dhupain Cheak Sarees for Women Black', 'Linen Skirt Palazzo Best Qualityfull Good Stitching Imported Fabric For Women', 'New exclusive Designed Stitched Cotton Naira Kat Stylist and Fashionable Three Pis For Women / Girls', 'মেয়েদের জন্য শাড়ীর সাথে পরার জন্য আকর্ষণীয় শেপওয়ার ফিশকাত পেটিকোট।।', 'Handloom Chumki Saree For Women - Sari', 'New Exclushive Collection 100% High Qualitiey Deshi Tat Three Piece [3pc] dress For Women', 'Palazzo Best Qualityfull Good stitching For Women (China Linen Fabric)', 'Black Half Silk Tangail Tat Saree Without Blouse Piece For Women - Sari', 'Red & Golden Combnation 12 Hand Halfsilk Saree for Women - Sari', 'Cotton Unstitched Salwar kameez for Women', 'Exclusive Tangail Multi Color Half Silk Chumki Saree Without Blouse Piece For Women - Sari', 'Tangail halfsilk Chumki saree for women All colour. (Any colour inbox me)', \"Sirajganj Shari Ghor's Half Silk Pure Cotton Deep Blue Handloomed New Designed Saree\", 'Multicolor satkahon saree for women with tangail saree - Sari - Saree - শাড়ি - Sari', 'Japani Soft Silk Sharee For Women - Black - Sari - Saree - শাড়ি', 'New exclusive designed high quality lilen skin print 3 pis for women. - Dress For Girls - 3 Pice Dress - Three Piece', 'Multicolor Cotton+silk Check Saree For Women With Running Blouse Peice', 'Readymade Stylish Fashionable Koti dress Hot Kurti For Girls Long Pure Soft Linen (1 Pcs) ShadaMon Shop K-300', 'Moslin Than Sarees For Women - Sari', 'Fashionable Trendy Tangail Tat Golden Par Saree for Women - All Color', 'Readymade Stylish Hot Kurti tops For Girls ( ShadaMon Shop )BBJJJ', 'Multicolor pure tangail half silk jamdani saree for women', 'Chumki Saree All Colour For Woman', 'Fashionable Temple Dhupiyan Saree For Women (All Colour) - Sharee For Women - Sari - Saree - শাড়ি - Sari - শাড়ি', 'Japani Silk Saree for Women - Sari - শাড়ি', 'Moslin Than Saree for womens black colour - শাড়ি', 'Black & White Dhupiyan Check Saree For Women (Dhupian sari of Tangail)', 'Red Color Traditional Jamdani Saree For Women', 'Black Saree for Women', 'Multicolor Weightless Jamdani Saree For Women', 'Half Silk Chumki Sarees for Women Tangail Saree', 'Soft Silk Katan Saree Without Blouse Piece For Women', 'New exclusive Designed Stitched Linen Naira Kat Stylist and Fashionable Three Pis For Women / Girls', 'Exclusive Salwar kameez set', 'Fashionable Halfsilk Chumki Saree for Womens-All color - Sari', 'Plus par Saree for fashionable Women-Black color', 'Moslin Than Saree for womens-all colour', 'High Quality Pakistani Malhar Women Salwar Kameez Three Piece For Women', 'Muslin Soft Thane Saree for Women - শাড়ি', 'Cotton Sharee Shapewear Fish cut Petticoat Best Qualityfull Good Stitching for woman', 'Dhupain Cheak Sarees for Women Black', 'Linen Skirt Palazzo Best Qualityfull Good Stitching Imported Fabric For Women', 'New exclusive Designed Stitched Cotton Naira Kat Stylist and Fashionable Three Pis For Women / Girls', 'মেয়েদের জন্য শাড়ীর সাথে পরার জন্য আকর্ষণীয় শেপওয়ার ফিশকাত পেটিকোট।।', 'Handloom Chumki Saree For Women - Sari', 'New Exclushive Collection 100% High Qualitiey Deshi Tat Three Piece [3pc] dress For Women', 'Palazzo Best Qualityfull Good stitching For Women (China Linen Fabric)', 'Black Half Silk Tangail Tat Saree Without Blouse Piece For Women - Sari', 'Red & Golden Combnation 12 Hand Halfsilk Saree for Women - Sari', 'Cotton Unstitched Salwar kameez for Women', 'Exclusive Tangail Multi Color Half Silk Chumki Saree Without Blouse Piece For Women - Sari', 'Tangail halfsilk Chumki saree for women All colour. (Any colour inbox me)', \"Sirajganj Shari Ghor's Half Silk Pure Cotton Deep Blue Handloomed New Designed Saree\", 'Multicolor satkahon saree for women with tangail saree - Sari - Saree - শাড়ি - Sari', 'Japani Soft Silk Sharee For Women - Black - Sari - Saree - শাড়ি', 'New exclusive designed high quality lilen skin print 3 pis for women. - Dress For Girls - 3 Pice Dress - Three Piece', 'Multicolor Cotton+silk Check Saree For Women With Running Blouse Peice', 'Readymade Stylish Fashionable Koti dress Hot Kurti For Girls Long Pure Soft Linen (1 Pcs) ShadaMon Shop K-300', 'Moslin Than Sarees For Women - Sari', 'Fashionable Trendy Tangail Tat Golden Par Saree for Women - All Color', 'Readymade Stylish Hot Kurti tops For Girls ( ShadaMon Shop )BBJJJ', 'Multicolor pure tangail half silk jamdani saree for women', 'Chumki Saree All Colour For Woman', 'Fashionable Temple Dhupiyan Saree For Women (All Colour) - Sharee For Women - Sari - Saree - শাড়ি - Sari - শাড়ি', 'Japani Silk Saree for Women - Sari - শাড়ি', 'Moslin Than Saree for womens black colour - শাড়ি', 'Black & White Dhupiyan Check Saree For Women (Dhupian sari of Tangail)', 'Red Color Traditional Jamdani Saree For Women', 'Black Saree for Women', 'Multicolor Weightless Jamdani Saree For Women', 'Half Silk Chumki Sarees for Women Tangail Saree', 'Soft Silk Katan Saree Without Blouse Piece For Women', 'New exclusive Designed Stitched Linen Naira Kat Stylist and Fashionable Three Pis For Women / Girls', 'Exclusive Salwar kameez set', 'Fashionable Halfsilk Chumki Saree for Womens-All color - Sari', 'Plus par Saree for fashionable Women-Black color', 'Moslin Than Saree for womens-all colour', 'High Quality Pakistani Malhar Women Salwar Kameez Three Piece For Women', 'Muslin Soft Thane Saree for Women - শাড়ি', 'Cotton Sharee Shapewear Fish cut Petticoat Best Qualityfull Good Stitching for woman', 'Dhupain Cheak Sarees for Women Black', 'Linen Skirt Palazzo Best Qualityfull Good Stitching Imported Fabric For Women', 'New exclusive Designed Stitched Cotton Naira Kat Stylist and Fashionable Three Pis For Women / Girls', 'মেয়েদের জন্য শাড়ীর সাথে পরার জন্য আকর্ষণীয় শেপওয়ার ফিশকাত পেটিকোট।।', 'Handloom Chumki Saree For Women - Sari', 'New Exclushive Collection 100% High Qualitiey Deshi Tat Three Piece [3pc] dress For Women', 'Palazzo Best Qualityfull Good stitching For Women (China Linen Fabric)', 'Black Half Silk Tangail Tat Saree Without Blouse Piece For Women - Sari', 'Red & Golden Combnation 12 Hand Halfsilk Saree for Women - Sari', 'Cotton Unstitched Salwar kameez for Women', 'Exclusive Tangail Multi Color Half Silk Chumki Saree Without Blouse Piece For Women - Sari', 'Tangail halfsilk Chumki saree for women All colour. (Any colour inbox me)', \"Sirajganj Shari Ghor's Half Silk Pure Cotton Deep Blue Handloomed New Designed Saree\", 'Multicolor satkahon saree for women with tangail saree - Sari - Saree - শাড়ি - Sari', 'Japani Soft Silk Sharee For Women - Black - Sari - Saree - শাড়ি', 'New exclusive designed high quality lilen skin print 3 pis for women. - Dress For Girls - 3 Pice Dress - Three Piece', 'Multicolor Cotton+silk Check Saree For Women With Running Blouse Peice', 'Readymade Stylish Fashionable Koti dress Hot Kurti For Girls Long Pure Soft Linen (1 Pcs) ShadaMon Shop K-300', 'Moslin Than Sarees For Women - Sari', 'Fashionable Trendy Tangail Tat Golden Par Saree for Women - All Color', 'Readymade Stylish Hot Kurti tops For Girls ( ShadaMon Shop )BBJJJ', 'Multicolor pure tangail half silk jamdani saree for women', 'Chumki Saree All Colour For Woman', 'Fashionable Temple Dhupiyan Saree For Women (All Colour) - Sharee For Women - Sari - Saree - শাড়ি - Sari - শাড়ি', 'Japani Silk Saree for Women - Sari - শাড়ি', 'Moslin Than Saree for womens black colour - শাড়ি', 'Black & White Dhupiyan Check Saree For Women (Dhupian sari of Tangail)', 'Red Color Traditional Jamdani Saree For Women', 'Black Saree for Women', 'Multicolor Weightless Jamdani Saree For Women', 'Half Silk Chumki Sarees for Women Tangail Saree', 'Soft Silk Katan Saree Without Blouse Piece For Women'] / ['https://www.daraz.com.bd/products/-i318042885-s1448755239.html?search=1', 'https://www.daraz.com.bd/products/-i318075072-s1448919881.html?search=1', 'https://www.daraz.com.bd/products/-i298150813-s1323055118.html?search=1', 'https://www.daraz.com.bd/products/-i226721901-s1284038112.html?search=1', 'https://www.daraz.com.bd/products/-i252828631-s1281106443.html?search=1', 'https://www.daraz.com.bd/products/-i316089158-s1429595455.html?search=1', 'https://www.daraz.com.bd/products/muslin-soft-thane-saree-for-women-i247107668-s1192477521.html?search=1', 'https://www.daraz.com.bd/products/-i301250806-s1436868924.html?search=1', 'https://www.daraz.com.bd/products/-i226735031-s1284029562.html?search=1', 'https://www.daraz.com.bd/products/-i121137063-s1397648735.html?search=1', 'https://www.daraz.com.bd/products/-i318048599-s1448755087.html?search=1', 'https://www.daraz.com.bd/products/-i287850070-s1287693696.html?search=1', 'https://www.daraz.com.bd/products/handloom-chumki-saree-for-women-sari-i194453760-s1140905004.html?search=1', 'https://www.daraz.com.bd/products/new-exclushive-collection-100-high-qualitiey-deshi-tat-cotton-print-three-piece-3pc-dress-for-women-i293692157-s1301867791.html?search=1', 'https://www.daraz.com.bd/products/-i116436089-s1397673955.html?search=1', 'https://www.daraz.com.bd/products/black-half-silk-tangail-tat-saree-without-blouse-piece-for-women-sari-i244265787-s1288773689.html?search=1', 'https://www.daraz.com.bd/products/red-golden-combnation-12-hand-halfsilk-saree-for-women-sari-i244608006-s1188008940.html?search=1', 'https://www.daraz.com.bd/products/-i184326427-s1129169267.html?search=1', 'https://www.daraz.com.bd/products/exclusive-tangail-multi-color-half-silk-chumki-saree-without-blouse-piece-for-women-sari-i286385133-s1303392304.html?search=1', 'https://www.daraz.com.bd/products/-i313609873-s1406410671.html?search=1', 'https://www.daraz.com.bd/products/-i317972401-s1448032504.html?search=1', 'https://www.daraz.com.bd/products/multicolor-satkahon-saree-for-women-with-tangail-saree-sari-saree-sari-i227382102-s1171508782.html?search=1', 'https://www.daraz.com.bd/products/japani-soft-silk-sharee-for-women-black-sari-saree-i175894425-s1114778039.html?search=1', 'https://www.daraz.com.bd/products/3-3-i314715973-s1417445992.html?search=1', 'https://www.daraz.com.bd/products/-i309588628-s1386015353.html?search=1', 'https://www.daraz.com.bd/products/readymade-stylish-fashionable-koti-dress-hot-kurti-for-girls-long-pure-soft-linen-1-pcs-shadamon-shop-k-300-i203299723-s1424578064.html?search=1', 'https://www.daraz.com.bd/products/moslin-than-sarees-for-women-sari-i246418782-s1299915235.html?search=1', 'https://www.daraz.com.bd/products/-i309999049-s1386449937.html?search=1', 'https://www.daraz.com.bd/products/readymade-stylish-hot-kurti-tops-for-girls-shadamon-shop-bbjjj-i198450420-s1171170723.html?search=1', 'https://www.daraz.com.bd/products/-i160360836-s1092108530.html?search=1', 'https://www.daraz.com.bd/products/-i318092849-s1449236450.html?search=1', 'https://www.daraz.com.bd/products/fashionable-temple-dhupiyan-saree-for-women-all-colour-sharee-for-women-sari-saree-sari-i227381571-s1171520069.html?search=1', 'https://www.daraz.com.bd/products/japani-silk-saree-for-women-sari-i260759975-s1220911333.html?search=1', 'https://www.daraz.com.bd/products/moslin-than-saree-for-womens-black-colour-i247107374-s1303195966.html?search=1', 'https://www.daraz.com.bd/products/-i226721449-s1171129186.html?search=1', 'https://www.daraz.com.bd/products/red-color-traditional-jamdani-saree-for-women-i275530791-s1253514790.html?search=1', 'https://www.daraz.com.bd/products/black-saree-for-women-i274974249-s1252137614.html?search=1', 'https://www.daraz.com.bd/products/multicolor-weightless-jamdani-saree-for-women-i275533647-s1409425168.html?search=1', 'https://www.daraz.com.bd/products/-i303785910-s1354117813.html?search=1', 'https://www.daraz.com.bd/products/-i286807214-s1285122825.html?search=1', 'https://www.daraz.com.bd/products/-i318042885-s1448755239.html?search=1', 'https://www.daraz.com.bd/products/-i318075072-s1448919881.html?search=1', 'https://www.daraz.com.bd/products/-i298150813-s1323055118.html?search=1', 'https://www.daraz.com.bd/products/-i226721901-s1284038112.html?search=1', 'https://www.daraz.com.bd/products/-i252828631-s1281106443.html?search=1', 'https://www.daraz.com.bd/products/-i316089158-s1429595455.html?search=1', 'https://www.daraz.com.bd/products/muslin-soft-thane-saree-for-women-i247107668-s1192477521.html?search=1', 'https://www.daraz.com.bd/products/-i301250806-s1436868924.html?search=1', 'https://www.daraz.com.bd/products/-i226735031-s1284029562.html?search=1', 'https://www.daraz.com.bd/products/-i121137063-s1397648735.html?search=1', 'https://www.daraz.com.bd/products/-i318048599-s1448755087.html?search=1', 'https://www.daraz.com.bd/products/-i287850070-s1287693696.html?search=1', 'https://www.daraz.com.bd/products/handloom-chumki-saree-for-women-sari-i194453760-s1140905004.html?search=1', 'https://www.daraz.com.bd/products/new-exclushive-collection-100-high-qualitiey-deshi-tat-cotton-print-three-piece-3pc-dress-for-women-i293692157-s1301867791.html?search=1', 'https://www.daraz.com.bd/products/-i116436089-s1397673955.html?search=1', 'https://www.daraz.com.bd/products/black-half-silk-tangail-tat-saree-without-blouse-piece-for-women-sari-i244265787-s1288773689.html?search=1', 'https://www.daraz.com.bd/products/red-golden-combnation-12-hand-halfsilk-saree-for-women-sari-i244608006-s1188008940.html?search=1', 'https://www.daraz.com.bd/products/-i184326427-s1129169267.html?search=1', 'https://www.daraz.com.bd/products/exclusive-tangail-multi-color-half-silk-chumki-saree-without-blouse-piece-for-women-sari-i286385133-s1303392304.html?search=1', 'https://www.daraz.com.bd/products/-i313609873-s1406410671.html?search=1', 'https://www.daraz.com.bd/products/-i317972401-s1448032504.html?search=1', 'https://www.daraz.com.bd/products/multicolor-satkahon-saree-for-women-with-tangail-saree-sari-saree-sari-i227382102-s1171508782.html?search=1', 'https://www.daraz.com.bd/products/japani-soft-silk-sharee-for-women-black-sari-saree-i175894425-s1114778039.html?search=1', 'https://www.daraz.com.bd/products/3-3-i314715973-s1417445992.html?search=1', 'https://www.daraz.com.bd/products/-i309588628-s1386015353.html?search=1', 'https://www.daraz.com.bd/products/readymade-stylish-fashionable-koti-dress-hot-kurti-for-girls-long-pure-soft-linen-1-pcs-shadamon-shop-k-300-i203299723-s1424578064.html?search=1', 'https://www.daraz.com.bd/products/moslin-than-sarees-for-women-sari-i246418782-s1299915235.html?search=1', 'https://www.daraz.com.bd/products/-i309999049-s1386449937.html?search=1', 'https://www.daraz.com.bd/products/readymade-stylish-hot-kurti-tops-for-girls-shadamon-shop-bbjjj-i198450420-s1171170723.html?search=1', 'https://www.daraz.com.bd/products/-i160360836-s1092108530.html?search=1', 'https://www.daraz.com.bd/products/-i318092849-s1449236450.html?search=1', 'https://www.daraz.com.bd/products/fashionable-temple-dhupiyan-saree-for-women-all-colour-sharee-for-women-sari-saree-sari-i227381571-s1171520069.html?search=1', 'https://www.daraz.com.bd/products/japani-silk-saree-for-women-sari-i260759975-s1220911333.html?search=1', 'https://www.daraz.com.bd/products/moslin-than-saree-for-womens-black-colour-i247107374-s1303195966.html?search=1', 'https://www.daraz.com.bd/products/-i226721449-s1171129186.html?search=1', 'https://www.daraz.com.bd/products/red-color-traditional-jamdani-saree-for-women-i275530791-s1253514790.html?search=1', 'https://www.daraz.com.bd/products/black-saree-for-women-i274974249-s1252137614.html?search=1', 'https://www.daraz.com.bd/products/multicolor-weightless-jamdani-saree-for-women-i275533647-s1409425168.html?search=1', 'https://www.daraz.com.bd/products/-i303785910-s1354117813.html?search=1', 'https://www.daraz.com.bd/products/-i286807214-s1285122825.html?search=1', 'https://www.daraz.com.bd/products/-i318042885-s1448755239.html?search=1', 'https://www.daraz.com.bd/products/-i318075072-s1448919881.html?search=1', 'https://www.daraz.com.bd/products/-i298150813-s1323055118.html?search=1', 'https://www.daraz.com.bd/products/-i226721901-s1284038112.html?search=1', 'https://www.daraz.com.bd/products/-i252828631-s1281106443.html?search=1', 'https://www.daraz.com.bd/products/-i316089158-s1429595455.html?search=1', 'https://www.daraz.com.bd/products/muslin-soft-thane-saree-for-women-i247107668-s1192477521.html?search=1', 'https://www.daraz.com.bd/products/-i301250806-s1436868924.html?search=1', 'https://www.daraz.com.bd/products/-i226735031-s1284029562.html?search=1', 'https://www.daraz.com.bd/products/-i121137063-s1397648735.html?search=1', 'https://www.daraz.com.bd/products/-i318048599-s1448755087.html?search=1', 'https://www.daraz.com.bd/products/-i287850070-s1287693696.html?search=1', 'https://www.daraz.com.bd/products/handloom-chumki-saree-for-women-sari-i194453760-s1140905004.html?search=1', 'https://www.daraz.com.bd/products/new-exclushive-collection-100-high-qualitiey-deshi-tat-cotton-print-three-piece-3pc-dress-for-women-i293692157-s1301867791.html?search=1', 'https://www.daraz.com.bd/products/-i116436089-s1397673955.html?search=1', 'https://www.daraz.com.bd/products/black-half-silk-tangail-tat-saree-without-blouse-piece-for-women-sari-i244265787-s1288773689.html?search=1', 'https://www.daraz.com.bd/products/red-golden-combnation-12-hand-halfsilk-saree-for-women-sari-i244608006-s1188008940.html?search=1', 'https://www.daraz.com.bd/products/-i184326427-s1129169267.html?search=1', 'https://www.daraz.com.bd/products/exclusive-tangail-multi-color-half-silk-chumki-saree-without-blouse-piece-for-women-sari-i286385133-s1303392304.html?search=1', 'https://www.daraz.com.bd/products/-i313609873-s1406410671.html?search=1', 'https://www.daraz.com.bd/products/-i317972401-s1448032504.html?search=1', 'https://www.daraz.com.bd/products/multicolor-satkahon-saree-for-women-with-tangail-saree-sari-saree-sari-i227382102-s1171508782.html?search=1', 'https://www.daraz.com.bd/products/japani-soft-silk-sharee-for-women-black-sari-saree-i175894425-s1114778039.html?search=1', 'https://www.daraz.com.bd/products/3-3-i314715973-s1417445992.html?search=1', 'https://www.daraz.com.bd/products/-i309588628-s1386015353.html?search=1', 'https://www.daraz.com.bd/products/readymade-stylish-fashionable-koti-dress-hot-kurti-for-girls-long-pure-soft-linen-1-pcs-shadamon-shop-k-300-i203299723-s1424578064.html?search=1', 'https://www.daraz.com.bd/products/moslin-than-sarees-for-women-sari-i246418782-s1299915235.html?search=1', 'https://www.daraz.com.bd/products/-i309999049-s1386449937.html?search=1', 'https://www.daraz.com.bd/products/readymade-stylish-hot-kurti-tops-for-girls-shadamon-shop-bbjjj-i198450420-s1171170723.html?search=1', 'https://www.daraz.com.bd/products/-i160360836-s1092108530.html?search=1', 'https://www.daraz.com.bd/products/-i318092849-s1449236450.html?search=1', 'https://www.daraz.com.bd/products/fashionable-temple-dhupiyan-saree-for-women-all-colour-sharee-for-women-sari-saree-sari-i227381571-s1171520069.html?search=1', 'https://www.daraz.com.bd/products/japani-silk-saree-for-women-sari-i260759975-s1220911333.html?search=1', 'https://www.daraz.com.bd/products/moslin-than-saree-for-womens-black-colour-i247107374-s1303195966.html?search=1', 'https://www.daraz.com.bd/products/-i226721449-s1171129186.html?search=1', 'https://www.daraz.com.bd/products/red-color-traditional-jamdani-saree-for-women-i275530791-s1253514790.html?search=1', 'https://www.daraz.com.bd/products/black-saree-for-women-i274974249-s1252137614.html?search=1', 'https://www.daraz.com.bd/products/multicolor-weightless-jamdani-saree-for-women-i275533647-s1409425168.html?search=1', 'https://www.daraz.com.bd/products/-i303785910-s1354117813.html?search=1', 'https://www.daraz.com.bd/products/-i286807214-s1285122825.html?search=1'] / ['https://static-01.daraz.com.bd/p/6647c82c7693b681bbf574025234e192.jpg', 'https://bd-live-21.slatic.net/kf/Se0e6a7b7206e45afbe89baeebc4c306bF.jpg', 'https://static-01.daraz.com.bd/p/5f9c974c263ecee85889a5d285914b02.jpg', 'https://static-01.daraz.com.bd/p/a8119cb54d24763eb51607dc23761710.jpg', 'https://static-01.daraz.com.bd/p/7e1a78ae732beb53004b1b228a205444.jpg', 'https://static-01.daraz.com.bd/p/6b82eb6699165e49999cbdbceed296f5.jpg', 'https://static-01.daraz.com.bd/p/be6ec295b693d0c452fa0b32cd85b140.jpg', 'https://static-01.daraz.com.bd/p/63d731ba9e9634c2ff363ac46f588c53.jpg', 'https://static-01.daraz.com.bd/p/7be32524d1af555c9f4afb9f020a0298.jpg', 'https://static-01.daraz.com.bd/p/6c158841b80be299c1299b57f532d81f.jpg', 'https://static-01.daraz.com.bd/p/a2be8d1fdafe2f9e9b1be749b3244c6a.jpg', 'https://static-01.daraz.com.bd/p/531ba92dab263d3bc23abb8d6a6f02cc.jpg', 'https://static-01.daraz.com.bd/p/040b6ec931ff0b36921f9b615a8954e9.jpg', 'https://static-01.daraz.com.bd/p/c28d7e697a8e75af3a2d68e622c0ad96.jpg', 'https://static-01.daraz.com.bd/p/081ccedb37c002a727eecf02afff7f61.jpg', 'https://static-01.daraz.com.bd/p/09bc2bb7702c2698384fa13476c39a97.jpg', 'https://static-01.daraz.com.bd/p/c32f19e22156f1d27d487b6eeede50cb.jpg', 'https://static-01.daraz.com.bd/p/a4f9a0070a224ed8a0137ef9cc48c1ec.jpg', 'https://static-01.daraz.com.bd/p/981e25ab082ea1cfea989644f0579b01.jpg', 'https://static-01.daraz.com.bd/p/e5dbe6ba3e4f70ca0df005ed2250e91a.jpg', 'https://static-01.daraz.com.bd/p/9b15692599520b3aeeded5afca135baf.jpg', 'https://static-01.daraz.com.bd/p/a511f51e7ade4fa99976e52596356258.jpg', 'https://static-01.daraz.com.bd/p/f2038f3951b9e73183f7fe36a6572923.jpg', 'https://static-01.daraz.com.bd/p/7a0e300cc7be2c650a4cc2f91bd6f531.jpg', 'https://static-01.daraz.com.bd/p/520adfecea39276d1f5445e9f6a3e8e9.jpg', 'https://static-01.daraz.com.bd/p/6693005193ab88742049ebbc7ccba624.jpg', 'https://static-01.daraz.com.bd/p/f965536bcece716be980a8cd2b3b72b0.jpg', 'https://static-01.daraz.com.bd/p/722ff51816401b6c5f93795efc98599e.jpg', 'https://static-01.daraz.com.bd/p/09d97da73058bc8007116cc40e3bcf0c.jpg', 'https://static-01.daraz.com.bd/p/f8fae1b6c2e35d209dc8e3be15c524fa.jpg', 'https://static-01.daraz.com.bd/p/38d14000142b7328c2d1b3f0e8bf0113.jpg', 'https://static-01.daraz.com.bd/p/526c8b264113390dad5f4ee6327a14eb.jpg', 'https://static-01.daraz.com.bd/p/6dbc23fcf090bb4b5654f73c2eb5def1.jpg', 'https://static-01.daraz.com.bd/p/df737bec424c10c7bbff8b7fe4f907fc.jpg', 'https://static-01.daraz.com.bd/p/d988328e32c9977f7bf082ea3636671c.jpg', 'https://static-01.daraz.com.bd/p/8bce100e53c3ab7fac7f757384eca1c7.jpg', 'https://static-01.daraz.com.bd/p/af5b2395681a9f323781ef06c5eb6ac6.jpg', 'https://static-01.daraz.com.bd/p/acda2363b02a61baf409066cfe7434c3.jpg', 'https://static-01.daraz.com.bd/p/7445195015b8ce7ddd1ccb7c4056aa13.jpg', 'https://static-01.daraz.com.bd/p/bc365ca02e056cfbfe6bbe438cb4e9da.jpg', 'https://static-01.daraz.com.bd/p/6647c82c7693b681bbf574025234e192.jpg', 'https://bd-live-21.slatic.net/kf/Se0e6a7b7206e45afbe89baeebc4c306bF.jpg', 'https://static-01.daraz.com.bd/p/5f9c974c263ecee85889a5d285914b02.jpg', 'https://static-01.daraz.com.bd/p/a8119cb54d24763eb51607dc23761710.jpg', 'https://static-01.daraz.com.bd/p/7e1a78ae732beb53004b1b228a205444.jpg', 'https://static-01.daraz.com.bd/p/6b82eb6699165e49999cbdbceed296f5.jpg', 'https://static-01.daraz.com.bd/p/be6ec295b693d0c452fa0b32cd85b140.jpg', 'https://static-01.daraz.com.bd/p/63d731ba9e9634c2ff363ac46f588c53.jpg', 'https://static-01.daraz.com.bd/p/7be32524d1af555c9f4afb9f020a0298.jpg', 'https://static-01.daraz.com.bd/p/6c158841b80be299c1299b57f532d81f.jpg', 'https://static-01.daraz.com.bd/p/a2be8d1fdafe2f9e9b1be749b3244c6a.jpg', 'https://static-01.daraz.com.bd/p/531ba92dab263d3bc23abb8d6a6f02cc.jpg', 'https://static-01.daraz.com.bd/p/040b6ec931ff0b36921f9b615a8954e9.jpg', 'https://static-01.daraz.com.bd/p/c28d7e697a8e75af3a2d68e622c0ad96.jpg', 'https://static-01.daraz.com.bd/p/081ccedb37c002a727eecf02afff7f61.jpg', 'https://static-01.daraz.com.bd/p/09bc2bb7702c2698384fa13476c39a97.jpg', 'https://static-01.daraz.com.bd/p/c32f19e22156f1d27d487b6eeede50cb.jpg', 'https://static-01.daraz.com.bd/p/a4f9a0070a224ed8a0137ef9cc48c1ec.jpg', 'https://static-01.daraz.com.bd/p/981e25ab082ea1cfea989644f0579b01.jpg', 'https://static-01.daraz.com.bd/p/e5dbe6ba3e4f70ca0df005ed2250e91a.jpg', 'https://static-01.daraz.com.bd/p/9b15692599520b3aeeded5afca135baf.jpg', 'https://static-01.daraz.com.bd/p/a511f51e7ade4fa99976e52596356258.jpg', 'https://static-01.daraz.com.bd/p/f2038f3951b9e73183f7fe36a6572923.jpg', 'https://static-01.daraz.com.bd/p/7a0e300cc7be2c650a4cc2f91bd6f531.jpg', 'https://static-01.daraz.com.bd/p/520adfecea39276d1f5445e9f6a3e8e9.jpg', 'https://static-01.daraz.com.bd/p/6693005193ab88742049ebbc7ccba624.jpg', 'https://static-01.daraz.com.bd/p/f965536bcece716be980a8cd2b3b72b0.jpg', 'https://static-01.daraz.com.bd/p/722ff51816401b6c5f93795efc98599e.jpg', 'https://static-01.daraz.com.bd/p/09d97da73058bc8007116cc40e3bcf0c.jpg', 'https://static-01.daraz.com.bd/p/f8fae1b6c2e35d209dc8e3be15c524fa.jpg', 'https://static-01.daraz.com.bd/p/38d14000142b7328c2d1b3f0e8bf0113.jpg', 'https://static-01.daraz.com.bd/p/526c8b264113390dad5f4ee6327a14eb.jpg', 'https://static-01.daraz.com.bd/p/6dbc23fcf090bb4b5654f73c2eb5def1.jpg', 'https://static-01.daraz.com.bd/p/df737bec424c10c7bbff8b7fe4f907fc.jpg', 'https://static-01.daraz.com.bd/p/d988328e32c9977f7bf082ea3636671c.jpg', 'https://static-01.daraz.com.bd/p/8bce100e53c3ab7fac7f757384eca1c7.jpg', 'https://static-01.daraz.com.bd/p/af5b2395681a9f323781ef06c5eb6ac6.jpg', 'https://static-01.daraz.com.bd/p/acda2363b02a61baf409066cfe7434c3.jpg', 'https://static-01.daraz.com.bd/p/7445195015b8ce7ddd1ccb7c4056aa13.jpg', 'https://static-01.daraz.com.bd/p/bc365ca02e056cfbfe6bbe438cb4e9da.jpg', 'https://static-01.daraz.com.bd/p/6647c82c7693b681bbf574025234e192.jpg', 'https://bd-live-21.slatic.net/kf/Se0e6a7b7206e45afbe89baeebc4c306bF.jpg', 'https://static-01.daraz.com.bd/p/5f9c974c263ecee85889a5d285914b02.jpg', 'https://static-01.daraz.com.bd/p/a8119cb54d24763eb51607dc23761710.jpg', 'https://static-01.daraz.com.bd/p/7e1a78ae732beb53004b1b228a205444.jpg', 'https://static-01.daraz.com.bd/p/6b82eb6699165e49999cbdbceed296f5.jpg', 'https://static-01.daraz.com.bd/p/be6ec295b693d0c452fa0b32cd85b140.jpg', 'https://static-01.daraz.com.bd/p/63d731ba9e9634c2ff363ac46f588c53.jpg', 'https://static-01.daraz.com.bd/p/7be32524d1af555c9f4afb9f020a0298.jpg', 'https://static-01.daraz.com.bd/p/6c158841b80be299c1299b57f532d81f.jpg', 'https://static-01.daraz.com.bd/p/a2be8d1fdafe2f9e9b1be749b3244c6a.jpg', 'https://static-01.daraz.com.bd/p/531ba92dab263d3bc23abb8d6a6f02cc.jpg', 'https://static-01.daraz.com.bd/p/040b6ec931ff0b36921f9b615a8954e9.jpg', 'https://static-01.daraz.com.bd/p/c28d7e697a8e75af3a2d68e622c0ad96.jpg', 'https://static-01.daraz.com.bd/p/081ccedb37c002a727eecf02afff7f61.jpg', 'https://static-01.daraz.com.bd/p/09bc2bb7702c2698384fa13476c39a97.jpg', 'https://static-01.daraz.com.bd/p/c32f19e22156f1d27d487b6eeede50cb.jpg', 'https://static-01.daraz.com.bd/p/a4f9a0070a224ed8a0137ef9cc48c1ec.jpg', 'https://static-01.daraz.com.bd/p/981e25ab082ea1cfea989644f0579b01.jpg', 'https://static-01.daraz.com.bd/p/e5dbe6ba3e4f70ca0df005ed2250e91a.jpg', 'https://static-01.daraz.com.bd/p/9b15692599520b3aeeded5afca135baf.jpg', 'https://static-01.daraz.com.bd/p/a511f51e7ade4fa99976e52596356258.jpg', 'https://static-01.daraz.com.bd/p/f2038f3951b9e73183f7fe36a6572923.jpg', 'https://static-01.daraz.com.bd/p/7a0e300cc7be2c650a4cc2f91bd6f531.jpg', 'https://static-01.daraz.com.bd/p/520adfecea39276d1f5445e9f6a3e8e9.jpg', 'https://static-01.daraz.com.bd/p/6693005193ab88742049ebbc7ccba624.jpg', 'https://static-01.daraz.com.bd/p/f965536bcece716be980a8cd2b3b72b0.jpg', 'https://static-01.daraz.com.bd/p/722ff51816401b6c5f93795efc98599e.jpg', 'https://static-01.daraz.com.bd/p/09d97da73058bc8007116cc40e3bcf0c.jpg', 'https://static-01.daraz.com.bd/p/f8fae1b6c2e35d209dc8e3be15c524fa.jpg', 'https://static-01.daraz.com.bd/p/38d14000142b7328c2d1b3f0e8bf0113.jpg', 'https://static-01.daraz.com.bd/p/526c8b264113390dad5f4ee6327a14eb.jpg', 'https://static-01.daraz.com.bd/p/6dbc23fcf090bb4b5654f73c2eb5def1.jpg', 'https://static-01.daraz.com.bd/p/df737bec424c10c7bbff8b7fe4f907fc.jpg', 'https://static-01.daraz.com.bd/p/d988328e32c9977f7bf082ea3636671c.jpg', 'https://static-01.daraz.com.bd/p/8bce100e53c3ab7fac7f757384eca1c7.jpg', 'https://static-01.daraz.com.bd/p/af5b2395681a9f323781ef06c5eb6ac6.jpg', 'https://static-01.daraz.com.bd/p/acda2363b02a61baf409066cfe7434c3.jpg', 'https://static-01.daraz.com.bd/p/7445195015b8ce7ddd1ccb7c4056aa13.jpg', 'https://static-01.daraz.com.bd/p/bc365ca02e056cfbfe6bbe438cb4e9da.jpg']\n"
     ]
    },
    {
     "name": "stdout",
     "output_type": "stream",
     "text": [
      "['New exclusive Designed Stitched Linen Naira Kat Stylist and Fashionable Three Pis For Women / Girls', 'Exclusive Salwar kameez set', 'Fashionable Halfsilk Chumki Saree for Womens-All color - Sari', 'Plus par Saree for fashionable Women-Black color', 'Moslin Than Saree for womens-all colour', 'High Quality Pakistani Malhar Women Salwar Kameez Three Piece For Women', 'Muslin Soft Thane Saree for Women - শাড়ি', 'Cotton Sharee Shapewear Fish cut Petticoat Best Qualityfull Good Stitching for woman', 'Dhupain Cheak Sarees for Women Black', 'Linen Skirt Palazzo Best Qualityfull Good Stitching Imported Fabric For Women', 'New exclusive Designed Stitched Cotton Naira Kat Stylist and Fashionable Three Pis For Women / Girls', 'মেয়েদের জন্য শাড়ীর সাথে পরার জন্য আকর্ষণীয় শেপওয়ার ফিশকাত পেটিকোট।।', 'Handloom Chumki Saree For Women - Sari', 'New Exclushive Collection 100% High Qualitiey Deshi Tat Three Piece [3pc] dress For Women', 'Palazzo Best Qualityfull Good stitching For Women (China Linen Fabric)', 'Black Half Silk Tangail Tat Saree Without Blouse Piece For Women - Sari', 'Red & Golden Combnation 12 Hand Halfsilk Saree for Women - Sari', 'Cotton Unstitched Salwar kameez for Women', 'Exclusive Tangail Multi Color Half Silk Chumki Saree Without Blouse Piece For Women - Sari', 'Tangail halfsilk Chumki saree for women All colour. (Any colour inbox me)', \"Sirajganj Shari Ghor's Half Silk Pure Cotton Deep Blue Handloomed New Designed Saree\", 'Multicolor satkahon saree for women with tangail saree - Sari - Saree - শাড়ি - Sari', 'Japani Soft Silk Sharee For Women - Black - Sari - Saree - শাড়ি', 'New exclusive designed high quality lilen skin print 3 pis for women. - Dress For Girls - 3 Pice Dress - Three Piece', 'Multicolor Cotton+silk Check Saree For Women With Running Blouse Peice', 'Readymade Stylish Fashionable Koti dress Hot Kurti For Girls Long Pure Soft Linen (1 Pcs) ShadaMon Shop K-300', 'Moslin Than Sarees For Women - Sari', 'Fashionable Trendy Tangail Tat Golden Par Saree for Women - All Color', 'Readymade Stylish Hot Kurti tops For Girls ( ShadaMon Shop )BBJJJ', 'Multicolor pure tangail half silk jamdani saree for women', 'Chumki Saree All Colour For Woman', 'Fashionable Temple Dhupiyan Saree For Women (All Colour) - Sharee For Women - Sari - Saree - শাড়ি - Sari - শাড়ি', 'Japani Silk Saree for Women - Sari - শাড়ি', 'Moslin Than Saree for womens black colour - শাড়ি', 'Black & White Dhupiyan Check Saree For Women (Dhupian sari of Tangail)', 'Red Color Traditional Jamdani Saree For Women', 'Black Saree for Women', 'Multicolor Weightless Jamdani Saree For Women', 'Half Silk Chumki Sarees for Women Tangail Saree', 'Soft Silk Katan Saree Without Blouse Piece For Women', 'New exclusive Designed Stitched Linen Naira Kat Stylist and Fashionable Three Pis For Women / Girls', 'Exclusive Salwar kameez set', 'Fashionable Halfsilk Chumki Saree for Womens-All color - Sari', 'Plus par Saree for fashionable Women-Black color', 'Moslin Than Saree for womens-all colour', 'High Quality Pakistani Malhar Women Salwar Kameez Three Piece For Women', 'Muslin Soft Thane Saree for Women - শাড়ি', 'Cotton Sharee Shapewear Fish cut Petticoat Best Qualityfull Good Stitching for woman', 'Dhupain Cheak Sarees for Women Black', 'Linen Skirt Palazzo Best Qualityfull Good Stitching Imported Fabric For Women', 'New exclusive Designed Stitched Cotton Naira Kat Stylist and Fashionable Three Pis For Women / Girls', 'মেয়েদের জন্য শাড়ীর সাথে পরার জন্য আকর্ষণীয় শেপওয়ার ফিশকাত পেটিকোট।।', 'Handloom Chumki Saree For Women - Sari', 'New Exclushive Collection 100% High Qualitiey Deshi Tat Three Piece [3pc] dress For Women', 'Palazzo Best Qualityfull Good stitching For Women (China Linen Fabric)', 'Black Half Silk Tangail Tat Saree Without Blouse Piece For Women - Sari', 'Red & Golden Combnation 12 Hand Halfsilk Saree for Women - Sari', 'Cotton Unstitched Salwar kameez for Women', 'Exclusive Tangail Multi Color Half Silk Chumki Saree Without Blouse Piece For Women - Sari', 'Tangail halfsilk Chumki saree for women All colour. (Any colour inbox me)', \"Sirajganj Shari Ghor's Half Silk Pure Cotton Deep Blue Handloomed New Designed Saree\", 'Multicolor satkahon saree for women with tangail saree - Sari - Saree - শাড়ি - Sari', 'Japani Soft Silk Sharee For Women - Black - Sari - Saree - শাড়ি', 'New exclusive designed high quality lilen skin print 3 pis for women. - Dress For Girls - 3 Pice Dress - Three Piece', 'Multicolor Cotton+silk Check Saree For Women With Running Blouse Peice', 'Readymade Stylish Fashionable Koti dress Hot Kurti For Girls Long Pure Soft Linen (1 Pcs) ShadaMon Shop K-300', 'Moslin Than Sarees For Women - Sari', 'Fashionable Trendy Tangail Tat Golden Par Saree for Women - All Color', 'Readymade Stylish Hot Kurti tops For Girls ( ShadaMon Shop )BBJJJ', 'Multicolor pure tangail half silk jamdani saree for women', 'Chumki Saree All Colour For Woman', 'Fashionable Temple Dhupiyan Saree For Women (All Colour) - Sharee For Women - Sari - Saree - শাড়ি - Sari - শাড়ি', 'Japani Silk Saree for Women - Sari - শাড়ি', 'Moslin Than Saree for womens black colour - শাড়ি', 'Black & White Dhupiyan Check Saree For Women (Dhupian sari of Tangail)', 'Red Color Traditional Jamdani Saree For Women', 'Black Saree for Women', 'Multicolor Weightless Jamdani Saree For Women', 'Half Silk Chumki Sarees for Women Tangail Saree', 'Soft Silk Katan Saree Without Blouse Piece For Women', 'New exclusive Designed Stitched Linen Naira Kat Stylist and Fashionable Three Pis For Women / Girls', 'Exclusive Salwar kameez set', 'Fashionable Halfsilk Chumki Saree for Womens-All color - Sari', 'Plus par Saree for fashionable Women-Black color', 'Moslin Than Saree for womens-all colour', 'High Quality Pakistani Malhar Women Salwar Kameez Three Piece For Women', 'Muslin Soft Thane Saree for Women - শাড়ি', 'Cotton Sharee Shapewear Fish cut Petticoat Best Qualityfull Good Stitching for woman', 'Dhupain Cheak Sarees for Women Black', 'Linen Skirt Palazzo Best Qualityfull Good Stitching Imported Fabric For Women', 'New exclusive Designed Stitched Cotton Naira Kat Stylist and Fashionable Three Pis For Women / Girls', 'মেয়েদের জন্য শাড়ীর সাথে পরার জন্য আকর্ষণীয় শেপওয়ার ফিশকাত পেটিকোট।।', 'Handloom Chumki Saree For Women - Sari', 'New Exclushive Collection 100% High Qualitiey Deshi Tat Three Piece [3pc] dress For Women', 'Palazzo Best Qualityfull Good stitching For Women (China Linen Fabric)', 'Black Half Silk Tangail Tat Saree Without Blouse Piece For Women - Sari', 'Red & Golden Combnation 12 Hand Halfsilk Saree for Women - Sari', 'Cotton Unstitched Salwar kameez for Women', 'Exclusive Tangail Multi Color Half Silk Chumki Saree Without Blouse Piece For Women - Sari', 'Tangail halfsilk Chumki saree for women All colour. (Any colour inbox me)', \"Sirajganj Shari Ghor's Half Silk Pure Cotton Deep Blue Handloomed New Designed Saree\", 'Multicolor satkahon saree for women with tangail saree - Sari - Saree - শাড়ি - Sari', 'Japani Soft Silk Sharee For Women - Black - Sari - Saree - শাড়ি', 'New exclusive designed high quality lilen skin print 3 pis for women. - Dress For Girls - 3 Pice Dress - Three Piece', 'Multicolor Cotton+silk Check Saree For Women With Running Blouse Peice', 'Readymade Stylish Fashionable Koti dress Hot Kurti For Girls Long Pure Soft Linen (1 Pcs) ShadaMon Shop K-300', 'Moslin Than Sarees For Women - Sari', 'Fashionable Trendy Tangail Tat Golden Par Saree for Women - All Color', 'Readymade Stylish Hot Kurti tops For Girls ( ShadaMon Shop )BBJJJ', 'Multicolor pure tangail half silk jamdani saree for women', 'Chumki Saree All Colour For Woman', 'Fashionable Temple Dhupiyan Saree For Women (All Colour) - Sharee For Women - Sari - Saree - শাড়ি - Sari - শাড়ি', 'Japani Silk Saree for Women - Sari - শাড়ি', 'Moslin Than Saree for womens black colour - শাড়ি', 'Black & White Dhupiyan Check Saree For Women (Dhupian sari of Tangail)', 'Red Color Traditional Jamdani Saree For Women', 'Black Saree for Women', 'Multicolor Weightless Jamdani Saree For Women', 'Half Silk Chumki Sarees for Women Tangail Saree', 'Soft Silk Katan Saree Without Blouse Piece For Women', 'New exclusive Designed Stitched Linen Naira Kat Stylist and Fashionable Three Pis For Women / Girls', 'Exclusive Salwar kameez set', 'Fashionable Halfsilk Chumki Saree for Womens-All color - Sari', 'Plus par Saree for fashionable Women-Black color', 'Moslin Than Saree for womens-all colour', 'High Quality Pakistani Malhar Women Salwar Kameez Three Piece For Women', 'Muslin Soft Thane Saree for Women - শাড়ি', 'Cotton Sharee Shapewear Fish cut Petticoat Best Qualityfull Good Stitching for woman', 'Dhupain Cheak Sarees for Women Black', 'Linen Skirt Palazzo Best Qualityfull Good Stitching Imported Fabric For Women', 'New exclusive Designed Stitched Cotton Naira Kat Stylist and Fashionable Three Pis For Women / Girls', 'মেয়েদের জন্য শাড়ীর সাথে পরার জন্য আকর্ষণীয় শেপওয়ার ফিশকাত পেটিকোট।।', 'Handloom Chumki Saree For Women - Sari', 'New Exclushive Collection 100% High Qualitiey Deshi Tat Three Piece [3pc] dress For Women', 'Palazzo Best Qualityfull Good stitching For Women (China Linen Fabric)', 'Black Half Silk Tangail Tat Saree Without Blouse Piece For Women - Sari', 'Red & Golden Combnation 12 Hand Halfsilk Saree for Women - Sari', 'Cotton Unstitched Salwar kameez for Women', 'Exclusive Tangail Multi Color Half Silk Chumki Saree Without Blouse Piece For Women - Sari', 'Tangail halfsilk Chumki saree for women All colour. (Any colour inbox me)', \"Sirajganj Shari Ghor's Half Silk Pure Cotton Deep Blue Handloomed New Designed Saree\", 'Multicolor satkahon saree for women with tangail saree - Sari - Saree - শাড়ি - Sari', 'Japani Soft Silk Sharee For Women - Black - Sari - Saree - শাড়ি', 'New exclusive designed high quality lilen skin print 3 pis for women. - Dress For Girls - 3 Pice Dress - Three Piece', 'Multicolor Cotton+silk Check Saree For Women With Running Blouse Peice', 'Readymade Stylish Fashionable Koti dress Hot Kurti For Girls Long Pure Soft Linen (1 Pcs) ShadaMon Shop K-300', 'Moslin Than Sarees For Women - Sari', 'Fashionable Trendy Tangail Tat Golden Par Saree for Women - All Color', 'Readymade Stylish Hot Kurti tops For Girls ( ShadaMon Shop )BBJJJ', 'Multicolor pure tangail half silk jamdani saree for women', 'Chumki Saree All Colour For Woman', 'Fashionable Temple Dhupiyan Saree For Women (All Colour) - Sharee For Women - Sari - Saree - শাড়ি - Sari - শাড়ি', 'Japani Silk Saree for Women - Sari - শাড়ি', 'Moslin Than Saree for womens black colour - শাড়ি', 'Black & White Dhupiyan Check Saree For Women (Dhupian sari of Tangail)', 'Red Color Traditional Jamdani Saree For Women', 'Black Saree for Women', 'Multicolor Weightless Jamdani Saree For Women', 'Half Silk Chumki Sarees for Women Tangail Saree', 'Soft Silk Katan Saree Without Blouse Piece For Women'] / ['https://www.daraz.com.bd/products/-i318042885-s1448755239.html?search=1', 'https://www.daraz.com.bd/products/-i318075072-s1448919881.html?search=1', 'https://www.daraz.com.bd/products/-i298150813-s1323055118.html?search=1', 'https://www.daraz.com.bd/products/-i226721901-s1284038112.html?search=1', 'https://www.daraz.com.bd/products/-i252828631-s1281106443.html?search=1', 'https://www.daraz.com.bd/products/-i316089158-s1429595455.html?search=1', 'https://www.daraz.com.bd/products/muslin-soft-thane-saree-for-women-i247107668-s1192477521.html?search=1', 'https://www.daraz.com.bd/products/-i301250806-s1436868924.html?search=1', 'https://www.daraz.com.bd/products/-i226735031-s1284029562.html?search=1', 'https://www.daraz.com.bd/products/-i121137063-s1397648735.html?search=1', 'https://www.daraz.com.bd/products/-i318048599-s1448755087.html?search=1', 'https://www.daraz.com.bd/products/-i287850070-s1287693696.html?search=1', 'https://www.daraz.com.bd/products/handloom-chumki-saree-for-women-sari-i194453760-s1140905004.html?search=1', 'https://www.daraz.com.bd/products/new-exclushive-collection-100-high-qualitiey-deshi-tat-cotton-print-three-piece-3pc-dress-for-women-i293692157-s1301867791.html?search=1', 'https://www.daraz.com.bd/products/-i116436089-s1397673955.html?search=1', 'https://www.daraz.com.bd/products/black-half-silk-tangail-tat-saree-without-blouse-piece-for-women-sari-i244265787-s1288773689.html?search=1', 'https://www.daraz.com.bd/products/red-golden-combnation-12-hand-halfsilk-saree-for-women-sari-i244608006-s1188008940.html?search=1', 'https://www.daraz.com.bd/products/-i184326427-s1129169267.html?search=1', 'https://www.daraz.com.bd/products/exclusive-tangail-multi-color-half-silk-chumki-saree-without-blouse-piece-for-women-sari-i286385133-s1303392304.html?search=1', 'https://www.daraz.com.bd/products/-i313609873-s1406410671.html?search=1', 'https://www.daraz.com.bd/products/-i317972401-s1448032504.html?search=1', 'https://www.daraz.com.bd/products/multicolor-satkahon-saree-for-women-with-tangail-saree-sari-saree-sari-i227382102-s1171508782.html?search=1', 'https://www.daraz.com.bd/products/japani-soft-silk-sharee-for-women-black-sari-saree-i175894425-s1114778039.html?search=1', 'https://www.daraz.com.bd/products/3-3-i314715973-s1417445992.html?search=1', 'https://www.daraz.com.bd/products/-i309588628-s1386015353.html?search=1', 'https://www.daraz.com.bd/products/readymade-stylish-fashionable-koti-dress-hot-kurti-for-girls-long-pure-soft-linen-1-pcs-shadamon-shop-k-300-i203299723-s1424578064.html?search=1', 'https://www.daraz.com.bd/products/moslin-than-sarees-for-women-sari-i246418782-s1299915235.html?search=1', 'https://www.daraz.com.bd/products/-i309999049-s1386449937.html?search=1', 'https://www.daraz.com.bd/products/readymade-stylish-hot-kurti-tops-for-girls-shadamon-shop-bbjjj-i198450420-s1171170723.html?search=1', 'https://www.daraz.com.bd/products/-i160360836-s1092108530.html?search=1', 'https://www.daraz.com.bd/products/-i318092849-s1449236450.html?search=1', 'https://www.daraz.com.bd/products/fashionable-temple-dhupiyan-saree-for-women-all-colour-sharee-for-women-sari-saree-sari-i227381571-s1171520069.html?search=1', 'https://www.daraz.com.bd/products/japani-silk-saree-for-women-sari-i260759975-s1220911333.html?search=1', 'https://www.daraz.com.bd/products/moslin-than-saree-for-womens-black-colour-i247107374-s1303195966.html?search=1', 'https://www.daraz.com.bd/products/-i226721449-s1171129186.html?search=1', 'https://www.daraz.com.bd/products/red-color-traditional-jamdani-saree-for-women-i275530791-s1253514790.html?search=1', 'https://www.daraz.com.bd/products/black-saree-for-women-i274974249-s1252137614.html?search=1', 'https://www.daraz.com.bd/products/multicolor-weightless-jamdani-saree-for-women-i275533647-s1409425168.html?search=1', 'https://www.daraz.com.bd/products/-i303785910-s1354117813.html?search=1', 'https://www.daraz.com.bd/products/-i286807214-s1285122825.html?search=1', 'https://www.daraz.com.bd/products/-i318042885-s1448755239.html?search=1', 'https://www.daraz.com.bd/products/-i318075072-s1448919881.html?search=1', 'https://www.daraz.com.bd/products/-i298150813-s1323055118.html?search=1', 'https://www.daraz.com.bd/products/-i226721901-s1284038112.html?search=1', 'https://www.daraz.com.bd/products/-i252828631-s1281106443.html?search=1', 'https://www.daraz.com.bd/products/-i316089158-s1429595455.html?search=1', 'https://www.daraz.com.bd/products/muslin-soft-thane-saree-for-women-i247107668-s1192477521.html?search=1', 'https://www.daraz.com.bd/products/-i301250806-s1436868924.html?search=1', 'https://www.daraz.com.bd/products/-i226735031-s1284029562.html?search=1', 'https://www.daraz.com.bd/products/-i121137063-s1397648735.html?search=1', 'https://www.daraz.com.bd/products/-i318048599-s1448755087.html?search=1', 'https://www.daraz.com.bd/products/-i287850070-s1287693696.html?search=1', 'https://www.daraz.com.bd/products/handloom-chumki-saree-for-women-sari-i194453760-s1140905004.html?search=1', 'https://www.daraz.com.bd/products/new-exclushive-collection-100-high-qualitiey-deshi-tat-cotton-print-three-piece-3pc-dress-for-women-i293692157-s1301867791.html?search=1', 'https://www.daraz.com.bd/products/-i116436089-s1397673955.html?search=1', 'https://www.daraz.com.bd/products/black-half-silk-tangail-tat-saree-without-blouse-piece-for-women-sari-i244265787-s1288773689.html?search=1', 'https://www.daraz.com.bd/products/red-golden-combnation-12-hand-halfsilk-saree-for-women-sari-i244608006-s1188008940.html?search=1', 'https://www.daraz.com.bd/products/-i184326427-s1129169267.html?search=1', 'https://www.daraz.com.bd/products/exclusive-tangail-multi-color-half-silk-chumki-saree-without-blouse-piece-for-women-sari-i286385133-s1303392304.html?search=1', 'https://www.daraz.com.bd/products/-i313609873-s1406410671.html?search=1', 'https://www.daraz.com.bd/products/-i317972401-s1448032504.html?search=1', 'https://www.daraz.com.bd/products/multicolor-satkahon-saree-for-women-with-tangail-saree-sari-saree-sari-i227382102-s1171508782.html?search=1', 'https://www.daraz.com.bd/products/japani-soft-silk-sharee-for-women-black-sari-saree-i175894425-s1114778039.html?search=1', 'https://www.daraz.com.bd/products/3-3-i314715973-s1417445992.html?search=1', 'https://www.daraz.com.bd/products/-i309588628-s1386015353.html?search=1', 'https://www.daraz.com.bd/products/readymade-stylish-fashionable-koti-dress-hot-kurti-for-girls-long-pure-soft-linen-1-pcs-shadamon-shop-k-300-i203299723-s1424578064.html?search=1', 'https://www.daraz.com.bd/products/moslin-than-sarees-for-women-sari-i246418782-s1299915235.html?search=1', 'https://www.daraz.com.bd/products/-i309999049-s1386449937.html?search=1', 'https://www.daraz.com.bd/products/readymade-stylish-hot-kurti-tops-for-girls-shadamon-shop-bbjjj-i198450420-s1171170723.html?search=1', 'https://www.daraz.com.bd/products/-i160360836-s1092108530.html?search=1', 'https://www.daraz.com.bd/products/-i318092849-s1449236450.html?search=1', 'https://www.daraz.com.bd/products/fashionable-temple-dhupiyan-saree-for-women-all-colour-sharee-for-women-sari-saree-sari-i227381571-s1171520069.html?search=1', 'https://www.daraz.com.bd/products/japani-silk-saree-for-women-sari-i260759975-s1220911333.html?search=1', 'https://www.daraz.com.bd/products/moslin-than-saree-for-womens-black-colour-i247107374-s1303195966.html?search=1', 'https://www.daraz.com.bd/products/-i226721449-s1171129186.html?search=1', 'https://www.daraz.com.bd/products/red-color-traditional-jamdani-saree-for-women-i275530791-s1253514790.html?search=1', 'https://www.daraz.com.bd/products/black-saree-for-women-i274974249-s1252137614.html?search=1', 'https://www.daraz.com.bd/products/multicolor-weightless-jamdani-saree-for-women-i275533647-s1409425168.html?search=1', 'https://www.daraz.com.bd/products/-i303785910-s1354117813.html?search=1', 'https://www.daraz.com.bd/products/-i286807214-s1285122825.html?search=1', 'https://www.daraz.com.bd/products/-i318042885-s1448755239.html?search=1', 'https://www.daraz.com.bd/products/-i318075072-s1448919881.html?search=1', 'https://www.daraz.com.bd/products/-i298150813-s1323055118.html?search=1', 'https://www.daraz.com.bd/products/-i226721901-s1284038112.html?search=1', 'https://www.daraz.com.bd/products/-i252828631-s1281106443.html?search=1', 'https://www.daraz.com.bd/products/-i316089158-s1429595455.html?search=1', 'https://www.daraz.com.bd/products/muslin-soft-thane-saree-for-women-i247107668-s1192477521.html?search=1', 'https://www.daraz.com.bd/products/-i301250806-s1436868924.html?search=1', 'https://www.daraz.com.bd/products/-i226735031-s1284029562.html?search=1', 'https://www.daraz.com.bd/products/-i121137063-s1397648735.html?search=1', 'https://www.daraz.com.bd/products/-i318048599-s1448755087.html?search=1', 'https://www.daraz.com.bd/products/-i287850070-s1287693696.html?search=1', 'https://www.daraz.com.bd/products/handloom-chumki-saree-for-women-sari-i194453760-s1140905004.html?search=1', 'https://www.daraz.com.bd/products/new-exclushive-collection-100-high-qualitiey-deshi-tat-cotton-print-three-piece-3pc-dress-for-women-i293692157-s1301867791.html?search=1', 'https://www.daraz.com.bd/products/-i116436089-s1397673955.html?search=1', 'https://www.daraz.com.bd/products/black-half-silk-tangail-tat-saree-without-blouse-piece-for-women-sari-i244265787-s1288773689.html?search=1', 'https://www.daraz.com.bd/products/red-golden-combnation-12-hand-halfsilk-saree-for-women-sari-i244608006-s1188008940.html?search=1', 'https://www.daraz.com.bd/products/-i184326427-s1129169267.html?search=1', 'https://www.daraz.com.bd/products/exclusive-tangail-multi-color-half-silk-chumki-saree-without-blouse-piece-for-women-sari-i286385133-s1303392304.html?search=1', 'https://www.daraz.com.bd/products/-i313609873-s1406410671.html?search=1', 'https://www.daraz.com.bd/products/-i317972401-s1448032504.html?search=1', 'https://www.daraz.com.bd/products/multicolor-satkahon-saree-for-women-with-tangail-saree-sari-saree-sari-i227382102-s1171508782.html?search=1', 'https://www.daraz.com.bd/products/japani-soft-silk-sharee-for-women-black-sari-saree-i175894425-s1114778039.html?search=1', 'https://www.daraz.com.bd/products/3-3-i314715973-s1417445992.html?search=1', 'https://www.daraz.com.bd/products/-i309588628-s1386015353.html?search=1', 'https://www.daraz.com.bd/products/readymade-stylish-fashionable-koti-dress-hot-kurti-for-girls-long-pure-soft-linen-1-pcs-shadamon-shop-k-300-i203299723-s1424578064.html?search=1', 'https://www.daraz.com.bd/products/moslin-than-sarees-for-women-sari-i246418782-s1299915235.html?search=1', 'https://www.daraz.com.bd/products/-i309999049-s1386449937.html?search=1', 'https://www.daraz.com.bd/products/readymade-stylish-hot-kurti-tops-for-girls-shadamon-shop-bbjjj-i198450420-s1171170723.html?search=1', 'https://www.daraz.com.bd/products/-i160360836-s1092108530.html?search=1', 'https://www.daraz.com.bd/products/-i318092849-s1449236450.html?search=1', 'https://www.daraz.com.bd/products/fashionable-temple-dhupiyan-saree-for-women-all-colour-sharee-for-women-sari-saree-sari-i227381571-s1171520069.html?search=1', 'https://www.daraz.com.bd/products/japani-silk-saree-for-women-sari-i260759975-s1220911333.html?search=1', 'https://www.daraz.com.bd/products/moslin-than-saree-for-womens-black-colour-i247107374-s1303195966.html?search=1', 'https://www.daraz.com.bd/products/-i226721449-s1171129186.html?search=1', 'https://www.daraz.com.bd/products/red-color-traditional-jamdani-saree-for-women-i275530791-s1253514790.html?search=1', 'https://www.daraz.com.bd/products/black-saree-for-women-i274974249-s1252137614.html?search=1', 'https://www.daraz.com.bd/products/multicolor-weightless-jamdani-saree-for-women-i275533647-s1409425168.html?search=1', 'https://www.daraz.com.bd/products/-i303785910-s1354117813.html?search=1', 'https://www.daraz.com.bd/products/-i286807214-s1285122825.html?search=1', 'https://www.daraz.com.bd/products/-i318042885-s1448755239.html?search=1', 'https://www.daraz.com.bd/products/-i318075072-s1448919881.html?search=1', 'https://www.daraz.com.bd/products/-i298150813-s1323055118.html?search=1', 'https://www.daraz.com.bd/products/-i226721901-s1284038112.html?search=1', 'https://www.daraz.com.bd/products/-i252828631-s1281106443.html?search=1', 'https://www.daraz.com.bd/products/-i316089158-s1429595455.html?search=1', 'https://www.daraz.com.bd/products/muslin-soft-thane-saree-for-women-i247107668-s1192477521.html?search=1', 'https://www.daraz.com.bd/products/-i301250806-s1436868924.html?search=1', 'https://www.daraz.com.bd/products/-i226735031-s1284029562.html?search=1', 'https://www.daraz.com.bd/products/-i121137063-s1397648735.html?search=1', 'https://www.daraz.com.bd/products/-i318048599-s1448755087.html?search=1', 'https://www.daraz.com.bd/products/-i287850070-s1287693696.html?search=1', 'https://www.daraz.com.bd/products/handloom-chumki-saree-for-women-sari-i194453760-s1140905004.html?search=1', 'https://www.daraz.com.bd/products/new-exclushive-collection-100-high-qualitiey-deshi-tat-cotton-print-three-piece-3pc-dress-for-women-i293692157-s1301867791.html?search=1', 'https://www.daraz.com.bd/products/-i116436089-s1397673955.html?search=1', 'https://www.daraz.com.bd/products/black-half-silk-tangail-tat-saree-without-blouse-piece-for-women-sari-i244265787-s1288773689.html?search=1', 'https://www.daraz.com.bd/products/red-golden-combnation-12-hand-halfsilk-saree-for-women-sari-i244608006-s1188008940.html?search=1', 'https://www.daraz.com.bd/products/-i184326427-s1129169267.html?search=1', 'https://www.daraz.com.bd/products/exclusive-tangail-multi-color-half-silk-chumki-saree-without-blouse-piece-for-women-sari-i286385133-s1303392304.html?search=1', 'https://www.daraz.com.bd/products/-i313609873-s1406410671.html?search=1', 'https://www.daraz.com.bd/products/-i317972401-s1448032504.html?search=1', 'https://www.daraz.com.bd/products/multicolor-satkahon-saree-for-women-with-tangail-saree-sari-saree-sari-i227382102-s1171508782.html?search=1', 'https://www.daraz.com.bd/products/japani-soft-silk-sharee-for-women-black-sari-saree-i175894425-s1114778039.html?search=1', 'https://www.daraz.com.bd/products/3-3-i314715973-s1417445992.html?search=1', 'https://www.daraz.com.bd/products/-i309588628-s1386015353.html?search=1', 'https://www.daraz.com.bd/products/readymade-stylish-fashionable-koti-dress-hot-kurti-for-girls-long-pure-soft-linen-1-pcs-shadamon-shop-k-300-i203299723-s1424578064.html?search=1', 'https://www.daraz.com.bd/products/moslin-than-sarees-for-women-sari-i246418782-s1299915235.html?search=1', 'https://www.daraz.com.bd/products/-i309999049-s1386449937.html?search=1', 'https://www.daraz.com.bd/products/readymade-stylish-hot-kurti-tops-for-girls-shadamon-shop-bbjjj-i198450420-s1171170723.html?search=1', 'https://www.daraz.com.bd/products/-i160360836-s1092108530.html?search=1', 'https://www.daraz.com.bd/products/-i318092849-s1449236450.html?search=1', 'https://www.daraz.com.bd/products/fashionable-temple-dhupiyan-saree-for-women-all-colour-sharee-for-women-sari-saree-sari-i227381571-s1171520069.html?search=1', 'https://www.daraz.com.bd/products/japani-silk-saree-for-women-sari-i260759975-s1220911333.html?search=1', 'https://www.daraz.com.bd/products/moslin-than-saree-for-womens-black-colour-i247107374-s1303195966.html?search=1', 'https://www.daraz.com.bd/products/-i226721449-s1171129186.html?search=1', 'https://www.daraz.com.bd/products/red-color-traditional-jamdani-saree-for-women-i275530791-s1253514790.html?search=1', 'https://www.daraz.com.bd/products/black-saree-for-women-i274974249-s1252137614.html?search=1', 'https://www.daraz.com.bd/products/multicolor-weightless-jamdani-saree-for-women-i275533647-s1409425168.html?search=1', 'https://www.daraz.com.bd/products/-i303785910-s1354117813.html?search=1', 'https://www.daraz.com.bd/products/-i286807214-s1285122825.html?search=1'] / ['https://static-01.daraz.com.bd/p/6647c82c7693b681bbf574025234e192.jpg', 'https://bd-live-21.slatic.net/kf/Se0e6a7b7206e45afbe89baeebc4c306bF.jpg', 'https://static-01.daraz.com.bd/p/5f9c974c263ecee85889a5d285914b02.jpg', 'https://static-01.daraz.com.bd/p/a8119cb54d24763eb51607dc23761710.jpg', 'https://static-01.daraz.com.bd/p/7e1a78ae732beb53004b1b228a205444.jpg', 'https://static-01.daraz.com.bd/p/6b82eb6699165e49999cbdbceed296f5.jpg', 'https://static-01.daraz.com.bd/p/be6ec295b693d0c452fa0b32cd85b140.jpg', 'https://static-01.daraz.com.bd/p/63d731ba9e9634c2ff363ac46f588c53.jpg', 'https://static-01.daraz.com.bd/p/7be32524d1af555c9f4afb9f020a0298.jpg', 'https://static-01.daraz.com.bd/p/6c158841b80be299c1299b57f532d81f.jpg', 'https://static-01.daraz.com.bd/p/a2be8d1fdafe2f9e9b1be749b3244c6a.jpg', 'https://static-01.daraz.com.bd/p/531ba92dab263d3bc23abb8d6a6f02cc.jpg', 'https://static-01.daraz.com.bd/p/040b6ec931ff0b36921f9b615a8954e9.jpg', 'https://static-01.daraz.com.bd/p/c28d7e697a8e75af3a2d68e622c0ad96.jpg', 'https://static-01.daraz.com.bd/p/081ccedb37c002a727eecf02afff7f61.jpg', 'https://static-01.daraz.com.bd/p/09bc2bb7702c2698384fa13476c39a97.jpg', 'https://static-01.daraz.com.bd/p/c32f19e22156f1d27d487b6eeede50cb.jpg', 'https://static-01.daraz.com.bd/p/a4f9a0070a224ed8a0137ef9cc48c1ec.jpg', 'https://static-01.daraz.com.bd/p/981e25ab082ea1cfea989644f0579b01.jpg', 'https://static-01.daraz.com.bd/p/e5dbe6ba3e4f70ca0df005ed2250e91a.jpg', 'https://static-01.daraz.com.bd/p/9b15692599520b3aeeded5afca135baf.jpg', 'https://static-01.daraz.com.bd/p/a511f51e7ade4fa99976e52596356258.jpg', 'https://static-01.daraz.com.bd/p/f2038f3951b9e73183f7fe36a6572923.jpg', 'https://static-01.daraz.com.bd/p/7a0e300cc7be2c650a4cc2f91bd6f531.jpg', 'https://static-01.daraz.com.bd/p/520adfecea39276d1f5445e9f6a3e8e9.jpg', 'https://static-01.daraz.com.bd/p/6693005193ab88742049ebbc7ccba624.jpg', 'https://static-01.daraz.com.bd/p/f965536bcece716be980a8cd2b3b72b0.jpg', 'https://static-01.daraz.com.bd/p/722ff51816401b6c5f93795efc98599e.jpg', 'https://static-01.daraz.com.bd/p/09d97da73058bc8007116cc40e3bcf0c.jpg', 'https://static-01.daraz.com.bd/p/f8fae1b6c2e35d209dc8e3be15c524fa.jpg', 'https://static-01.daraz.com.bd/p/38d14000142b7328c2d1b3f0e8bf0113.jpg', 'https://static-01.daraz.com.bd/p/526c8b264113390dad5f4ee6327a14eb.jpg', 'https://static-01.daraz.com.bd/p/6dbc23fcf090bb4b5654f73c2eb5def1.jpg', 'https://static-01.daraz.com.bd/p/df737bec424c10c7bbff8b7fe4f907fc.jpg', 'https://static-01.daraz.com.bd/p/d988328e32c9977f7bf082ea3636671c.jpg', 'https://static-01.daraz.com.bd/p/8bce100e53c3ab7fac7f757384eca1c7.jpg', 'https://static-01.daraz.com.bd/p/af5b2395681a9f323781ef06c5eb6ac6.jpg', 'https://static-01.daraz.com.bd/p/acda2363b02a61baf409066cfe7434c3.jpg', 'https://static-01.daraz.com.bd/p/7445195015b8ce7ddd1ccb7c4056aa13.jpg', 'https://static-01.daraz.com.bd/p/bc365ca02e056cfbfe6bbe438cb4e9da.jpg', 'https://static-01.daraz.com.bd/p/6647c82c7693b681bbf574025234e192.jpg', 'https://bd-live-21.slatic.net/kf/Se0e6a7b7206e45afbe89baeebc4c306bF.jpg', 'https://static-01.daraz.com.bd/p/5f9c974c263ecee85889a5d285914b02.jpg', 'https://static-01.daraz.com.bd/p/a8119cb54d24763eb51607dc23761710.jpg', 'https://static-01.daraz.com.bd/p/7e1a78ae732beb53004b1b228a205444.jpg', 'https://static-01.daraz.com.bd/p/6b82eb6699165e49999cbdbceed296f5.jpg', 'https://static-01.daraz.com.bd/p/be6ec295b693d0c452fa0b32cd85b140.jpg', 'https://static-01.daraz.com.bd/p/63d731ba9e9634c2ff363ac46f588c53.jpg', 'https://static-01.daraz.com.bd/p/7be32524d1af555c9f4afb9f020a0298.jpg', 'https://static-01.daraz.com.bd/p/6c158841b80be299c1299b57f532d81f.jpg', 'https://static-01.daraz.com.bd/p/a2be8d1fdafe2f9e9b1be749b3244c6a.jpg', 'https://static-01.daraz.com.bd/p/531ba92dab263d3bc23abb8d6a6f02cc.jpg', 'https://static-01.daraz.com.bd/p/040b6ec931ff0b36921f9b615a8954e9.jpg', 'https://static-01.daraz.com.bd/p/c28d7e697a8e75af3a2d68e622c0ad96.jpg', 'https://static-01.daraz.com.bd/p/081ccedb37c002a727eecf02afff7f61.jpg', 'https://static-01.daraz.com.bd/p/09bc2bb7702c2698384fa13476c39a97.jpg', 'https://static-01.daraz.com.bd/p/c32f19e22156f1d27d487b6eeede50cb.jpg', 'https://static-01.daraz.com.bd/p/a4f9a0070a224ed8a0137ef9cc48c1ec.jpg', 'https://static-01.daraz.com.bd/p/981e25ab082ea1cfea989644f0579b01.jpg', 'https://static-01.daraz.com.bd/p/e5dbe6ba3e4f70ca0df005ed2250e91a.jpg', 'https://static-01.daraz.com.bd/p/9b15692599520b3aeeded5afca135baf.jpg', 'https://static-01.daraz.com.bd/p/a511f51e7ade4fa99976e52596356258.jpg', 'https://static-01.daraz.com.bd/p/f2038f3951b9e73183f7fe36a6572923.jpg', 'https://static-01.daraz.com.bd/p/7a0e300cc7be2c650a4cc2f91bd6f531.jpg', 'https://static-01.daraz.com.bd/p/520adfecea39276d1f5445e9f6a3e8e9.jpg', 'https://static-01.daraz.com.bd/p/6693005193ab88742049ebbc7ccba624.jpg', 'https://static-01.daraz.com.bd/p/f965536bcece716be980a8cd2b3b72b0.jpg', 'https://static-01.daraz.com.bd/p/722ff51816401b6c5f93795efc98599e.jpg', 'https://static-01.daraz.com.bd/p/09d97da73058bc8007116cc40e3bcf0c.jpg', 'https://static-01.daraz.com.bd/p/f8fae1b6c2e35d209dc8e3be15c524fa.jpg', 'https://static-01.daraz.com.bd/p/38d14000142b7328c2d1b3f0e8bf0113.jpg', 'https://static-01.daraz.com.bd/p/526c8b264113390dad5f4ee6327a14eb.jpg', 'https://static-01.daraz.com.bd/p/6dbc23fcf090bb4b5654f73c2eb5def1.jpg', 'https://static-01.daraz.com.bd/p/df737bec424c10c7bbff8b7fe4f907fc.jpg', 'https://static-01.daraz.com.bd/p/d988328e32c9977f7bf082ea3636671c.jpg', 'https://static-01.daraz.com.bd/p/8bce100e53c3ab7fac7f757384eca1c7.jpg', 'https://static-01.daraz.com.bd/p/af5b2395681a9f323781ef06c5eb6ac6.jpg', 'https://static-01.daraz.com.bd/p/acda2363b02a61baf409066cfe7434c3.jpg', 'https://static-01.daraz.com.bd/p/7445195015b8ce7ddd1ccb7c4056aa13.jpg', 'https://static-01.daraz.com.bd/p/bc365ca02e056cfbfe6bbe438cb4e9da.jpg', 'https://static-01.daraz.com.bd/p/6647c82c7693b681bbf574025234e192.jpg', 'https://bd-live-21.slatic.net/kf/Se0e6a7b7206e45afbe89baeebc4c306bF.jpg', 'https://static-01.daraz.com.bd/p/5f9c974c263ecee85889a5d285914b02.jpg', 'https://static-01.daraz.com.bd/p/a8119cb54d24763eb51607dc23761710.jpg', 'https://static-01.daraz.com.bd/p/7e1a78ae732beb53004b1b228a205444.jpg', 'https://static-01.daraz.com.bd/p/6b82eb6699165e49999cbdbceed296f5.jpg', 'https://static-01.daraz.com.bd/p/be6ec295b693d0c452fa0b32cd85b140.jpg', 'https://static-01.daraz.com.bd/p/63d731ba9e9634c2ff363ac46f588c53.jpg', 'https://static-01.daraz.com.bd/p/7be32524d1af555c9f4afb9f020a0298.jpg', 'https://static-01.daraz.com.bd/p/6c158841b80be299c1299b57f532d81f.jpg', 'https://static-01.daraz.com.bd/p/a2be8d1fdafe2f9e9b1be749b3244c6a.jpg', 'https://static-01.daraz.com.bd/p/531ba92dab263d3bc23abb8d6a6f02cc.jpg', 'https://static-01.daraz.com.bd/p/040b6ec931ff0b36921f9b615a8954e9.jpg', 'https://static-01.daraz.com.bd/p/c28d7e697a8e75af3a2d68e622c0ad96.jpg', 'https://static-01.daraz.com.bd/p/081ccedb37c002a727eecf02afff7f61.jpg', 'https://static-01.daraz.com.bd/p/09bc2bb7702c2698384fa13476c39a97.jpg', 'https://static-01.daraz.com.bd/p/c32f19e22156f1d27d487b6eeede50cb.jpg', 'https://static-01.daraz.com.bd/p/a4f9a0070a224ed8a0137ef9cc48c1ec.jpg', 'https://static-01.daraz.com.bd/p/981e25ab082ea1cfea989644f0579b01.jpg', 'https://static-01.daraz.com.bd/p/e5dbe6ba3e4f70ca0df005ed2250e91a.jpg', 'https://static-01.daraz.com.bd/p/9b15692599520b3aeeded5afca135baf.jpg', 'https://static-01.daraz.com.bd/p/a511f51e7ade4fa99976e52596356258.jpg', 'https://static-01.daraz.com.bd/p/f2038f3951b9e73183f7fe36a6572923.jpg', 'https://static-01.daraz.com.bd/p/7a0e300cc7be2c650a4cc2f91bd6f531.jpg', 'https://static-01.daraz.com.bd/p/520adfecea39276d1f5445e9f6a3e8e9.jpg', 'https://static-01.daraz.com.bd/p/6693005193ab88742049ebbc7ccba624.jpg', 'https://static-01.daraz.com.bd/p/f965536bcece716be980a8cd2b3b72b0.jpg', 'https://static-01.daraz.com.bd/p/722ff51816401b6c5f93795efc98599e.jpg', 'https://static-01.daraz.com.bd/p/09d97da73058bc8007116cc40e3bcf0c.jpg', 'https://static-01.daraz.com.bd/p/f8fae1b6c2e35d209dc8e3be15c524fa.jpg', 'https://static-01.daraz.com.bd/p/38d14000142b7328c2d1b3f0e8bf0113.jpg', 'https://static-01.daraz.com.bd/p/526c8b264113390dad5f4ee6327a14eb.jpg', 'https://static-01.daraz.com.bd/p/6dbc23fcf090bb4b5654f73c2eb5def1.jpg', 'https://static-01.daraz.com.bd/p/df737bec424c10c7bbff8b7fe4f907fc.jpg', 'https://static-01.daraz.com.bd/p/d988328e32c9977f7bf082ea3636671c.jpg', 'https://static-01.daraz.com.bd/p/8bce100e53c3ab7fac7f757384eca1c7.jpg', 'https://static-01.daraz.com.bd/p/af5b2395681a9f323781ef06c5eb6ac6.jpg', 'https://static-01.daraz.com.bd/p/acda2363b02a61baf409066cfe7434c3.jpg', 'https://static-01.daraz.com.bd/p/7445195015b8ce7ddd1ccb7c4056aa13.jpg', 'https://static-01.daraz.com.bd/p/bc365ca02e056cfbfe6bbe438cb4e9da.jpg', 'https://static-01.daraz.com.bd/p/6647c82c7693b681bbf574025234e192.jpg', 'https://bd-live-21.slatic.net/kf/Se0e6a7b7206e45afbe89baeebc4c306bF.jpg', 'https://static-01.daraz.com.bd/p/5f9c974c263ecee85889a5d285914b02.jpg', 'https://static-01.daraz.com.bd/p/a8119cb54d24763eb51607dc23761710.jpg', 'https://static-01.daraz.com.bd/p/7e1a78ae732beb53004b1b228a205444.jpg', 'https://static-01.daraz.com.bd/p/6b82eb6699165e49999cbdbceed296f5.jpg', 'https://static-01.daraz.com.bd/p/be6ec295b693d0c452fa0b32cd85b140.jpg', 'https://static-01.daraz.com.bd/p/63d731ba9e9634c2ff363ac46f588c53.jpg', 'https://static-01.daraz.com.bd/p/7be32524d1af555c9f4afb9f020a0298.jpg', 'https://static-01.daraz.com.bd/p/6c158841b80be299c1299b57f532d81f.jpg', 'https://static-01.daraz.com.bd/p/a2be8d1fdafe2f9e9b1be749b3244c6a.jpg', 'https://static-01.daraz.com.bd/p/531ba92dab263d3bc23abb8d6a6f02cc.jpg', 'https://static-01.daraz.com.bd/p/040b6ec931ff0b36921f9b615a8954e9.jpg', 'https://static-01.daraz.com.bd/p/c28d7e697a8e75af3a2d68e622c0ad96.jpg', 'https://static-01.daraz.com.bd/p/081ccedb37c002a727eecf02afff7f61.jpg', 'https://static-01.daraz.com.bd/p/09bc2bb7702c2698384fa13476c39a97.jpg', 'https://static-01.daraz.com.bd/p/c32f19e22156f1d27d487b6eeede50cb.jpg', 'https://static-01.daraz.com.bd/p/a4f9a0070a224ed8a0137ef9cc48c1ec.jpg', 'https://static-01.daraz.com.bd/p/981e25ab082ea1cfea989644f0579b01.jpg', 'https://static-01.daraz.com.bd/p/e5dbe6ba3e4f70ca0df005ed2250e91a.jpg', 'https://static-01.daraz.com.bd/p/9b15692599520b3aeeded5afca135baf.jpg', 'https://static-01.daraz.com.bd/p/a511f51e7ade4fa99976e52596356258.jpg', 'https://static-01.daraz.com.bd/p/f2038f3951b9e73183f7fe36a6572923.jpg', 'https://static-01.daraz.com.bd/p/7a0e300cc7be2c650a4cc2f91bd6f531.jpg', 'https://static-01.daraz.com.bd/p/520adfecea39276d1f5445e9f6a3e8e9.jpg', 'https://static-01.daraz.com.bd/p/6693005193ab88742049ebbc7ccba624.jpg', 'https://static-01.daraz.com.bd/p/f965536bcece716be980a8cd2b3b72b0.jpg', 'https://static-01.daraz.com.bd/p/722ff51816401b6c5f93795efc98599e.jpg', 'https://static-01.daraz.com.bd/p/09d97da73058bc8007116cc40e3bcf0c.jpg', 'https://static-01.daraz.com.bd/p/f8fae1b6c2e35d209dc8e3be15c524fa.jpg', 'https://static-01.daraz.com.bd/p/38d14000142b7328c2d1b3f0e8bf0113.jpg', 'https://static-01.daraz.com.bd/p/526c8b264113390dad5f4ee6327a14eb.jpg', 'https://static-01.daraz.com.bd/p/6dbc23fcf090bb4b5654f73c2eb5def1.jpg', 'https://static-01.daraz.com.bd/p/df737bec424c10c7bbff8b7fe4f907fc.jpg', 'https://static-01.daraz.com.bd/p/d988328e32c9977f7bf082ea3636671c.jpg', 'https://static-01.daraz.com.bd/p/8bce100e53c3ab7fac7f757384eca1c7.jpg', 'https://static-01.daraz.com.bd/p/af5b2395681a9f323781ef06c5eb6ac6.jpg', 'https://static-01.daraz.com.bd/p/acda2363b02a61baf409066cfe7434c3.jpg', 'https://static-01.daraz.com.bd/p/7445195015b8ce7ddd1ccb7c4056aa13.jpg', 'https://static-01.daraz.com.bd/p/bc365ca02e056cfbfe6bbe438cb4e9da.jpg']\n"
     ]
    }
   ],
   "source": [
    "title_list = []\n",
    "link_list = []\n",
    "image_list = []\n",
    "\n",
    "for page in range(1,5):\n",
    "    driver.get('https://www.daraz.com.bd/womens-traditional-clothing/?spm=a2a0e.home.cate_1.1.2f3c12f7R0OXQi'+str(page))\n",
    "    for p in range(1,41):\n",
    "\n",
    "        k=str(p)\n",
    "        title = driver.find_element(By.XPATH,'//*[@id=\"root\"]/div/div[3]/div[1]/div/div[1]/div[2]/div['+k+']/div/div/div[2]/div[2]/a').text\n",
    "        link = driver.find_element(By.XPATH,'//*[@id=\"root\"]/div/div[3]/div[1]/div/div[1]/div[2]/div['+k+']/div/div/div[2]/div[2]/a').get_attribute('href')\n",
    "        image = driver.find_element(By.XPATH,'//*[@id=\"root\"]/div/div[3]/div[1]/div/div[1]/div[2]/div['+k+']/div/div/div[1]/div/a/img').get_attribute('src')\n",
    "\n",
    "        title_list.append(title)\n",
    "        link_list.append(link)\n",
    "        image_list.append(image)\n",
    "\n",
    "    print(title_list,\"/\",link_list,\"/\",image_list)    "
   ]
  },
  {
   "cell_type": "code",
   "execution_count": 14,
   "id": "1700db1e",
   "metadata": {},
   "outputs": [
    {
     "name": "stdout",
     "output_type": "stream",
     "text": [
      "160 / 160 / 160\n"
     ]
    }
   ],
   "source": [
    "print(len(title_list),\"/\",len(link_list),\"/\",len(image_list))   "
   ]
  },
  {
   "cell_type": "code",
   "execution_count": 15,
   "id": "388b8f34",
   "metadata": {},
   "outputs": [],
   "source": [
    "import pandas as pd\n",
    "import time"
   ]
  },
  {
   "cell_type": "code",
   "execution_count": 17,
   "id": "4168befa",
   "metadata": {},
   "outputs": [],
   "source": [
    "data = {'Title':title_list, 'Image_link':link_list, 'Image':image_list}\n",
    "df = pd.DataFrame(data)\n",
    "df.to_csv('output.csv',index = False)\n",
    "time.sleep(40)\n",
    "#print(len(title_list),\"/\",len(link_list),\"/\",len(image_list) )   "
   ]
  },
  {
   "cell_type": "markdown",
   "id": "c2a44754",
   "metadata": {},
   "source": [
    "### Extract comments from multiple pages by scrolling effect"
   ]
  },
  {
   "cell_type": "code",
   "execution_count": 18,
   "id": "47041ce9",
   "metadata": {},
   "outputs": [],
   "source": [
    "driver.get('https://www.daraz.com.bd/products/k33-k55-y80-pro60-tws-50-hifi-i183525012-s1287612110.html?spm=a2a0e.searchlist.list.2.273b68e2ThZtGn&search=1')"
   ]
  },
  {
   "cell_type": "code",
   "execution_count": 19,
   "id": "721ef53e",
   "metadata": {},
   "outputs": [],
   "source": [
    "comment_list = []"
   ]
  },
  {
   "cell_type": "code",
   "execution_count": 20,
   "id": "a8d8c3c3",
   "metadata": {},
   "outputs": [],
   "source": [
    "h = driver.execute_script('return document.body.scrollHeight')"
   ]
  },
  {
   "cell_type": "code",
   "execution_count": 21,
   "id": "74a4efd8",
   "metadata": {},
   "outputs": [],
   "source": [
    "for page in range(1,5):\n",
    "    driver.get('https://www.daraz.com.bd/products/k33-k55-y80-pro60-tws-50-hifi-i183525012-s1287612110.html?spm=a2a0e.searchlist.list.2.273b68e2ThZtGn&search=1'+str(page))\n",
    "    for p in range(0,h+1000,30):\n",
    "        driver.execute_script(f'window.scrollTo(0,{p});')\n",
    "        time.sleep(0.2)\n"
   ]
  },
  {
   "cell_type": "code",
   "execution_count": 22,
   "id": "8a219ac0",
   "metadata": {},
   "outputs": [
    {
     "name": "stdout",
     "output_type": "stream",
     "text": [
      "['4.7/5\\n633 Ratings\\n559\\n22\\n17\\n10\\n25', 'Although I received the product after 23 days. It doesn’t matter. But I am satisfied with this product.  Build quality, sound quality and charge performance are very good.  Inshallah I will get good performance in future. Thanks a lot to Seller and Daraz.', 'first of all  I am satisfied .and I recommend it  \\n সাউন্ড কোয়ালিটি  ; ৮/১০ \\nবয়েজ সিস্টেম       ; ৮/১০ \\nবেস সিস্টেম           ;৮/১০\\nআউট নলেজ         ৯/১০ \\nগেমিং পারফরম্যান্স ; ৭/১০ \\nচার্জিং পারফর্মেন্স ; ৯/১০ \\nবিল্ড কোয়ালিটি  ৭/১০ \\nএভারেজ পারফরম্যান্স ; ৮/১০ \\nচোখ বন্ধ করে নিতে পারেন ।\\nl recommended . thanks to daraz and seller 🥰✅ delivery time  16 day', 'পুরা ফালতু একটা জিনিস।যদি কেউ ঠোকাতে চান নিতে পারেন। টাকা নষ্ট ছাড়া আর কিছুই না। আমি সবচেয়ে ভালো আর দামী নেওয়ার পোরও ঠকে গেসি।আর এটা ব্র্যান্ড না ,এটা একটা প্রতারক।কেউ দয়া করে টাকা নস্ট করবেন না।আমরা সবাই চাইবো ভালো টা নিতে ,এর জন্যে এই সেলার কে সবাই avoid করে চলেন।আমি ঠোকসি চাই না আমার মতে করে আর কেউ ঠোকুক। আমর ফোন এ এখন কানেক্ট হয় কিন্তু গান চলে না কিন্তু সোনা যায় না।কেউ এইখান থেকে কিনে প্রতারিত হবেন না।', 'প্রডাক্টটি খুব ভালো ছিল যেটা অর্ডার দিয়েছি সেটাই এসেছে খুব ভালো লাগছে,,,💞💞', 'audio quality is very mid it has good bass. and design is better than I expected the battery can be a problem maybe']\n"
     ]
    }
   ],
   "source": [
    "all_comments = driver.find_elements(By.CLASS_NAME,'content')\n",
    "\n",
    "for i in all_comments:\n",
    "    comment_list.append(i.text)\n",
    "\n",
    "print(comment_list)"
   ]
  },
  {
   "cell_type": "code",
   "execution_count": 23,
   "id": "7bf383af",
   "metadata": {},
   "outputs": [],
   "source": [
    "import pandas as pd"
   ]
  },
  {
   "cell_type": "code",
   "execution_count": 24,
   "id": "ad3b30dd",
   "metadata": {},
   "outputs": [],
   "source": [
    "data = {'comment':comment_list}"
   ]
  },
  {
   "cell_type": "code",
   "execution_count": 25,
   "id": "34b7ce5d",
   "metadata": {},
   "outputs": [],
   "source": [
    "df = pd.DataFrame(data)\n",
    "df.to_csv('output1.csv',index = False)\n",
    "time.sleep(40)"
   ]
  },
  {
   "cell_type": "markdown",
   "id": "8f59a014",
   "metadata": {},
   "source": [
    "### Assignment (Couldn't complete yet)"
   ]
  },
  {
   "cell_type": "code",
   "execution_count": 32,
   "id": "dae382b0",
   "metadata": {},
   "outputs": [],
   "source": [
    "driver.get(\"https://www.daraz.com.bd/?spm=a2a0e.pdp.header.dhome.162apuuypuuyiR\")"
   ]
  },
  {
   "cell_type": "code",
   "execution_count": 41,
   "id": "825028f1",
   "metadata": {},
   "outputs": [],
   "source": [
    "from selenium.webdriver import ActionChains\n",
    "\n",
    "automotive = driver.find_element(By.XPATH, '//*[@id=\"Level_1_Category_No12\"]/a/span')\n",
    "\n",
    "achains = ActionChains(driver)\n",
    "achains.move_to_element(automotive).perform()\n",
    "import time\n",
    "time.sleep(3)\n"
   ]
  },
  {
   "cell_type": "code",
   "execution_count": 50,
   "id": "a55e3c5b",
   "metadata": {},
   "outputs": [
    {
     "name": "stdout",
     "output_type": "stream",
     "text": [
      "[<selenium.webdriver.remote.webelement.WebElement (session=\"ffb95c3a77111d826dad07d1fdc7a320\", element=\"D5B0E975E0EF19AA1988FBF0BA6BF1E9_element_18\")>]\n",
      "[<selenium.webdriver.remote.webelement.WebElement (session=\"ffb95c3a77111d826dad07d1fdc7a320\", element=\"D5B0E975E0EF19AA1988FBF0BA6BF1E9_element_18\")>, <selenium.webdriver.remote.webelement.WebElement (session=\"ffb95c3a77111d826dad07d1fdc7a320\", element=\"D5B0E975E0EF19AA1988FBF0BA6BF1E9_element_117\")>]\n",
      "[<selenium.webdriver.remote.webelement.WebElement (session=\"ffb95c3a77111d826dad07d1fdc7a320\", element=\"D5B0E975E0EF19AA1988FBF0BA6BF1E9_element_18\")>, <selenium.webdriver.remote.webelement.WebElement (session=\"ffb95c3a77111d826dad07d1fdc7a320\", element=\"D5B0E975E0EF19AA1988FBF0BA6BF1E9_element_117\")>, <selenium.webdriver.remote.webelement.WebElement (session=\"ffb95c3a77111d826dad07d1fdc7a320\", element=\"D5B0E975E0EF19AA1988FBF0BA6BF1E9_element_118\")>]\n",
      "[<selenium.webdriver.remote.webelement.WebElement (session=\"ffb95c3a77111d826dad07d1fdc7a320\", element=\"D5B0E975E0EF19AA1988FBF0BA6BF1E9_element_18\")>, <selenium.webdriver.remote.webelement.WebElement (session=\"ffb95c3a77111d826dad07d1fdc7a320\", element=\"D5B0E975E0EF19AA1988FBF0BA6BF1E9_element_117\")>, <selenium.webdriver.remote.webelement.WebElement (session=\"ffb95c3a77111d826dad07d1fdc7a320\", element=\"D5B0E975E0EF19AA1988FBF0BA6BF1E9_element_118\")>, <selenium.webdriver.remote.webelement.WebElement (session=\"ffb95c3a77111d826dad07d1fdc7a320\", element=\"D5B0E975E0EF19AA1988FBF0BA6BF1E9_element_119\")>]\n",
      "[<selenium.webdriver.remote.webelement.WebElement (session=\"ffb95c3a77111d826dad07d1fdc7a320\", element=\"D5B0E975E0EF19AA1988FBF0BA6BF1E9_element_18\")>, <selenium.webdriver.remote.webelement.WebElement (session=\"ffb95c3a77111d826dad07d1fdc7a320\", element=\"D5B0E975E0EF19AA1988FBF0BA6BF1E9_element_117\")>, <selenium.webdriver.remote.webelement.WebElement (session=\"ffb95c3a77111d826dad07d1fdc7a320\", element=\"D5B0E975E0EF19AA1988FBF0BA6BF1E9_element_118\")>, <selenium.webdriver.remote.webelement.WebElement (session=\"ffb95c3a77111d826dad07d1fdc7a320\", element=\"D5B0E975E0EF19AA1988FBF0BA6BF1E9_element_119\")>, <selenium.webdriver.remote.webelement.WebElement (session=\"ffb95c3a77111d826dad07d1fdc7a320\", element=\"D5B0E975E0EF19AA1988FBF0BA6BF1E9_element_120\")>]\n",
      "[<selenium.webdriver.remote.webelement.WebElement (session=\"ffb95c3a77111d826dad07d1fdc7a320\", element=\"D5B0E975E0EF19AA1988FBF0BA6BF1E9_element_18\")>, <selenium.webdriver.remote.webelement.WebElement (session=\"ffb95c3a77111d826dad07d1fdc7a320\", element=\"D5B0E975E0EF19AA1988FBF0BA6BF1E9_element_117\")>, <selenium.webdriver.remote.webelement.WebElement (session=\"ffb95c3a77111d826dad07d1fdc7a320\", element=\"D5B0E975E0EF19AA1988FBF0BA6BF1E9_element_118\")>, <selenium.webdriver.remote.webelement.WebElement (session=\"ffb95c3a77111d826dad07d1fdc7a320\", element=\"D5B0E975E0EF19AA1988FBF0BA6BF1E9_element_119\")>, <selenium.webdriver.remote.webelement.WebElement (session=\"ffb95c3a77111d826dad07d1fdc7a320\", element=\"D5B0E975E0EF19AA1988FBF0BA6BF1E9_element_120\")>, <selenium.webdriver.remote.webelement.WebElement (session=\"ffb95c3a77111d826dad07d1fdc7a320\", element=\"D5B0E975E0EF19AA1988FBF0BA6BF1E9_element_121\")>]\n",
      "[<selenium.webdriver.remote.webelement.WebElement (session=\"ffb95c3a77111d826dad07d1fdc7a320\", element=\"D5B0E975E0EF19AA1988FBF0BA6BF1E9_element_18\")>, <selenium.webdriver.remote.webelement.WebElement (session=\"ffb95c3a77111d826dad07d1fdc7a320\", element=\"D5B0E975E0EF19AA1988FBF0BA6BF1E9_element_117\")>, <selenium.webdriver.remote.webelement.WebElement (session=\"ffb95c3a77111d826dad07d1fdc7a320\", element=\"D5B0E975E0EF19AA1988FBF0BA6BF1E9_element_118\")>, <selenium.webdriver.remote.webelement.WebElement (session=\"ffb95c3a77111d826dad07d1fdc7a320\", element=\"D5B0E975E0EF19AA1988FBF0BA6BF1E9_element_119\")>, <selenium.webdriver.remote.webelement.WebElement (session=\"ffb95c3a77111d826dad07d1fdc7a320\", element=\"D5B0E975E0EF19AA1988FBF0BA6BF1E9_element_120\")>, <selenium.webdriver.remote.webelement.WebElement (session=\"ffb95c3a77111d826dad07d1fdc7a320\", element=\"D5B0E975E0EF19AA1988FBF0BA6BF1E9_element_121\")>, <selenium.webdriver.remote.webelement.WebElement (session=\"ffb95c3a77111d826dad07d1fdc7a320\", element=\"D5B0E975E0EF19AA1988FBF0BA6BF1E9_element_122\")>]\n"
     ]
    }
   ],
   "source": [
    "elements_list = []\n",
    "\n",
    "for p in range(1,8):\n",
    "\n",
    "    k=str(p)\n",
    "    ingredients = driver.find_element(By.XPATH, '//*[@id=\"J_3442298940\"]/div/ul/ul[12]/li['+k+']/a/span')\n",
    "    achains.move_to_element(ingredients).perform()\n",
    "\n",
    "    time.sleep(3)\n",
    "\n",
    "    elements_list.append(ingredients)\n",
    "        \n",
    "\n",
    "    print(elements_list)    "
   ]
  },
  {
   "cell_type": "code",
   "execution_count": 44,
   "id": "4cb9a10e",
   "metadata": {},
   "outputs": [],
   "source": [
    "data = {'Elements':elements_list}\n",
    "df = pd.DataFrame(data)\n",
    "df.to_csv('output2.csv',index = False)\n",
    "time.sleep(40)"
   ]
  },
  {
   "cell_type": "code",
   "execution_count": 51,
   "id": "377e5aa3",
   "metadata": {},
   "outputs": [],
   "source": [
    "#oil = driver.find_element(By.XPATH, '//*[@id=\"J_3442298940\"]/div/ul/ul[12]/li[1]/a/span')\n",
    "#achains.move_to_element(oil).perform()\n",
    "#time.sleep(3)\n",
    "\n",
    "#additives = driver.find_element(By.XPATH, '//*[@id=\"J_3442298940\"]/div/ul/ul[12]/li[1]/ul/li[1]/a/span')\n",
    "#achains.move_to_element(additives).perform()\n",
    "#time.sleep(3)"
   ]
  },
  {
   "cell_type": "markdown",
   "id": "d9b0b60b",
   "metadata": {},
   "source": [
    "Registration in Facebook using selenium"
   ]
  },
  {
   "cell_type": "code",
   "execution_count": 113,
   "id": "ce6c221d",
   "metadata": {},
   "outputs": [],
   "source": [
    "from selenium import webdriver\n",
    "from webdriver_manager.chrome import ChromeDriverManager\n",
    "from selenium.webdriver.common.by import By\n",
    "from selenium.webdriver.chrome.service import Service as ChromeService"
   ]
  },
  {
   "cell_type": "code",
   "execution_count": 114,
   "id": "937600a4",
   "metadata": {},
   "outputs": [
    {
     "name": "stderr",
     "output_type": "stream",
     "text": [
      "[WDM] - \n",
      "\n",
      "[WDM] - ====== WebDriver manager ======\n",
      "[WDM] - Current google-chrome version is 114.0.5735\n",
      "[WDM] - Get LATEST driver version for 114.0.5735\n",
      "[WDM] - Driver [C:\\Users\\user\\.wdm\\drivers\\chromedriver\\win32\\114.0.5735.90\\chromedriver.exe] found in cache\n"
     ]
    }
   ],
   "source": [
    "service = ChromeService(executable_path=ChromeDriverManager().install())"
   ]
  },
  {
   "cell_type": "code",
   "execution_count": 115,
   "id": "eeccc9c0",
   "metadata": {},
   "outputs": [],
   "source": [
    "chrome_options = webdriver.ChromeOptions()\n",
    "driver = webdriver.Chrome(options=chrome_options, service=service)\n",
    "driver.maximize_window()"
   ]
  },
  {
   "cell_type": "code",
   "execution_count": 116,
   "id": "550160a8",
   "metadata": {},
   "outputs": [],
   "source": [
    "driver.get('https://www.facebook.com/')\n",
    "time.sleep(10)\n",
    "\n",
    "create_new_account = driver.find_element(By.XPATH,'/html/body/div[1]/div[1]/div[1]/div/div/div/div[2]/div/div[1]/form/div[5]/a')\n",
    "create_new_account.click()"
   ]
  },
  {
   "cell_type": "code",
   "execution_count": 117,
   "id": "a2a6d80b",
   "metadata": {},
   "outputs": [],
   "source": [
    "fname = driver.find_element(By.XPATH,'/html/body/div[3]/div[2]/div/div/div[2]/div/div/div[1]/form/div[1]/div[1]/div[1]/div[1]/div/input')\n",
    "fname.send_keys('Salma')  \n"
   ]
  },
  {
   "cell_type": "code",
   "execution_count": 118,
   "id": "d8d1a466",
   "metadata": {},
   "outputs": [],
   "source": [
    "lname = driver.find_element(By.XPATH,'/html/body/div[3]/div[2]/div/div/div[2]/div/div/div[1]/form/div[1]/div[1]/div[1]/div[2]/div/div[1]/input')\n",
    "lname.send_keys('Sultana Trisha')  \n"
   ]
  },
  {
   "cell_type": "code",
   "execution_count": 119,
   "id": "180eec88",
   "metadata": {},
   "outputs": [],
   "source": [
    "email = driver.find_element(By.XPATH,'/html/body/div[3]/div[2]/div/div/div[2]/div/div/div[1]/form/div[1]/div[2]/div/div[1]/input')\n",
    "email.send_keys('salmatrisha244@gmail.com')  \n"
   ]
  },
  {
   "cell_type": "code",
   "execution_count": 120,
   "id": "850e4846",
   "metadata": {},
   "outputs": [],
   "source": [
    "re_enter_email = driver.find_element(By.XPATH,'/html/body/div[3]/div[2]/div/div/div[2]/div/div/div[1]/form/div[1]/div[3]/div/div/div[1]/input')\n",
    "re_enter_email.send_keys('salmatrisha244@gmail.com')"
   ]
  },
  {
   "cell_type": "code",
   "execution_count": 121,
   "id": "f1a15044",
   "metadata": {},
   "outputs": [],
   "source": [
    "password = driver.find_element(By.XPATH,'/html/body/div[3]/div[2]/div/div/div[2]/div/div/div[1]/form/div[1]/div[4]/div/div[1]/input')\n",
    "password.send_keys('123iamastar')  "
   ]
  },
  {
   "cell_type": "code",
   "execution_count": 122,
   "id": "bacaa4be",
   "metadata": {},
   "outputs": [],
   "source": [
    "password = driver.find_element(By.XPATH,'/html/body/div[3]/div[2]/div/div/div[2]/div/div/div[1]/form/div[1]/div[5]/div[2]/span/span/select[1]')\n",
    "password.send_keys('123iamastar')  "
   ]
  },
  {
   "cell_type": "code",
   "execution_count": 123,
   "id": "eeb76e8f",
   "metadata": {},
   "outputs": [],
   "source": [
    "day = driver.find_element(By.XPATH,'/html/body/div[3]/div[2]/div/div/div[2]/div/div/div[1]/form/div[1]/div[5]/div[2]/span/span/select[1]')\n",
    "day.send_keys(7) "
   ]
  },
  {
   "cell_type": "code",
   "execution_count": 124,
   "id": "0fceef41",
   "metadata": {},
   "outputs": [],
   "source": [
    "month = driver.find_element(By.XPATH,'/html/body/div[3]/div[2]/div/div/div[2]/div/div/div[1]/form/div[1]/div[5]/div[2]/span/span/select[2]')\n",
    "month.send_keys('Mar') "
   ]
  },
  {
   "cell_type": "code",
   "execution_count": 125,
   "id": "f7006e88",
   "metadata": {},
   "outputs": [],
   "source": [
    "year = driver.find_element(By.XPATH,'/html/body/div[3]/div[2]/div/div/div[2]/div/div/div[1]/form/div[1]/div[5]/div[2]/span/span/select[3]')\n",
    "year.send_keys(1996) "
   ]
  },
  {
   "cell_type": "code",
   "execution_count": 126,
   "id": "cc2d2de3",
   "metadata": {},
   "outputs": [],
   "source": [
    "female_radio = driver.find_element(By.XPATH, \"//input[@value='1']\")\n",
    "female_radio.click()"
   ]
  },
  {
   "cell_type": "code",
   "execution_count": 127,
   "id": "7837a3d8",
   "metadata": {},
   "outputs": [],
   "source": [
    "signup = driver.find_element(By.XPATH,'/html/body/div[3]/div[2]/div/div/div[2]/div/div/div[1]/form/div[1]/div[11]/button')\n",
    "signup.click()"
   ]
  },
  {
   "cell_type": "code",
   "execution_count": null,
   "id": "2a05990c",
   "metadata": {},
   "outputs": [],
   "source": []
  }
 ],
 "metadata": {
  "kernelspec": {
   "display_name": "Python 3",
   "language": "python",
   "name": "python3"
  },
  "language_info": {
   "codemirror_mode": {
    "name": "ipython",
    "version": 3
   },
   "file_extension": ".py",
   "mimetype": "text/x-python",
   "name": "python",
   "nbconvert_exporter": "python",
   "pygments_lexer": "ipython3",
   "version": "3.8.8"
  }
 },
 "nbformat": 4,
 "nbformat_minor": 5
}
